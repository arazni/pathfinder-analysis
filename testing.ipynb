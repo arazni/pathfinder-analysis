{
 "cells": [
  {
   "cell_type": "code",
   "execution_count": null,
   "metadata": {
    "dotnet_interactive": {
     "language": "fsharp"
    },
    "polyglot_notebook": {
     "kernelName": "fsharp"
    }
   },
   "outputs": [],
   "source": [
    "#r \"nuget: Plotly.NET.Interactive\"\n",
    "#r \"nuget: FSharp.Json\"\n",
    "#r \"nuget: Plotly.NET.ImageExport\"\n",
    "\n",
    "open Plotly.NET\n",
    "open Plotly.NET.ImageExport\n",
    "\n",
    "#load \"Helpers.fs\"\n",
    "#load \"Bestiary.fs\"\n",
    "#load \"Compare.fs\"\n",
    "#load \"Library.fs\"\n",
    "#load \"Transform.fs\"\n",
    "\n",
    "open PathfinderAnalysis.Library\n",
    "open PathfinderAnalysis.Bestiary\n",
    "open PathfinderAnalysis.Compare\n",
    "open PathfinderAnalysis.Transform\n",
    "open PathfinderAnalysis.Helpers"
   ]
  },
  {
   "cell_type": "code",
   "execution_count": null,
   "metadata": {
    "dotnet_interactive": {
     "language": "fsharp"
    },
    "polyglot_notebook": {
     "kernelName": "fsharp"
    }
   },
   "outputs": [],
   "source": [
    "[ Chart.Line(\n",
    "    x = pcLevels,\n",
    "    y = List.map (highMartialAttack true) pcLevels,\n",
    "    Name = \"Martial Attack Proficiency\",\n",
    "    ShowMarkers = true\n",
    ");\n",
    "Chart.Line(\n",
    "    x = pcLevels,\n",
    "    y = List.map (casterAttack true false) pcLevels,\n",
    "    Name = \"Caster Attack Proficiency\",\n",
    "    ShowMarkers = true\n",
    ")]\n",
    "|> Chart.combine\n",
    "|> Chart.withLineStyle(Shape = StyleParam.Shape.Hvh)\n",
    "|> Chart.withXAxisStyle(TitleText = \"Character Level\", MinMax = (0, 21))\n",
    "|> Chart.withYAxisStyle(TitleText = \"Attack Bonus\")\n",
    "|> Chart.withTitle \"Martial-Caster Attack Disparity\"\n"
   ]
  },
  {
   "cell_type": "code",
   "execution_count": 12,
   "metadata": {
    "dotnet_interactive": {
     "language": "fsharp"
    },
    "polyglot_notebook": {
     "kernelName": "fsharp"
    }
   },
   "outputs": [],
   "source": [
    "let titleFn level = \n",
    "  sprintf \"Middle Save - Level %i - Spout Cantrip vs. Martial Arbalest Against Level %i Creatures\" level (level+2)\n",
    "\n",
    "[|\n",
    "  { \n",
    "    AveragesByRollsByLevel = transformedResultsByRollByLevel spout CreatureSave middleSave (casterDc true) bestiaryByLevel 2\n",
    "      |> Seq.map resultRollsToAverages\n",
    "      |> Seq.map normalizeSavingThrowsForLevel\n",
    "      |> Seq.toArray;\n",
    "    Title = \"Spout\"\n",
    "  };\n",
    "  {\n",
    "    AveragesByRollsByLevel = transformedResultsByRollByLevel martialArbalest PlayerAttack creatureAc (highMartialAttack true) bestiaryByLevel 2\n",
    "      |> Seq.map resultRollsToAverages\n",
    "      |> Seq.toArray;\n",
    "    Title = \"Arbalest\"\n",
    "  }\n",
    "|]\n",
    "|> flatten\n",
    "|> generateCharts titleFn\n",
    "|> Seq.iteri (fun i chart -> Chart.savePNG (path = (sprintf \"spout-arbalest-%02i\" i)) chart)\n",
    "|> ignore"
   ]
  }
 ],
 "metadata": {
  "kernelspec": {
   "display_name": ".NET (F#)",
   "language": "F#",
   "name": ".net-fsharp"
  },
  "language_info": {
   "name": "polyglot-notebook"
  },
  "polyglot_notebook": {
   "kernelInfo": {
    "defaultKernelName": "fsharp",
    "items": [
     {
      "aliases": [],
      "languageName": "fsharp",
      "name": "fsharp"
     }
    ]
   }
  }
 },
 "nbformat": 4,
 "nbformat_minor": 2
}
