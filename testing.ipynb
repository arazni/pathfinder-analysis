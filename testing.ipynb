{
 "cells": [
  {
   "cell_type": "code",
   "execution_count": null,
   "metadata": {
    "dotnet_interactive": {
     "language": "fsharp"
    },
    "polyglot_notebook": {
     "kernelName": "fsharp"
    }
   },
   "outputs": [],
   "source": [
    "#r \"nuget: Plotly.NET.Interactive\"\n",
    "#r \"nuget: FSharp.Json\"\n",
    "\n",
    "open Plotly.NET\n",
    "\n",
    "#load \"Helpers.fs\"\n",
    "#load \"Bestiary.fs\"\n",
    "#load \"Compare.fs\"\n",
    "#load \"Library.fs\"\n",
    "#load \"Transform.fs\"\n",
    "\n",
    "open PathfinderAnalysis.Library\n",
    "open PathfinderAnalysis.Bestiary\n",
    "open PathfinderAnalysis.Compare\n",
    "open PathfinderAnalysis.Transform\n",
    "open PathfinderAnalysis.Helpers"
   ]
  },
  {
   "cell_type": "code",
   "execution_count": null,
   "metadata": {
    "dotnet_interactive": {
     "language": "fsharp"
    },
    "polyglot_notebook": {
     "kernelName": "fsharp"
    }
   },
   "outputs": [],
   "source": [
    "[ Chart.Line(\n",
    "    x = pcLevels,\n",
    "    y = List.map (highMartialAttack true) pcLevels,\n",
    "    Name = \"Martial Attack Proficiency\",\n",
    "    ShowMarkers = true\n",
    ");\n",
    "Chart.Line(\n",
    "    x = pcLevels,\n",
    "    y = List.map (casterAttack true false) pcLevels,\n",
    "    Name = \"Caster Attack Proficiency\",\n",
    "    ShowMarkers = true\n",
    ")]\n",
    "|> Chart.combine\n",
    "|> Chart.withLineStyle(Shape = StyleParam.Shape.Hvh)\n",
    "|> Chart.withXAxisStyle(TitleText = \"Character Level\", MinMax = (0, 21))\n",
    "|> Chart.withYAxisStyle(TitleText = \"Attack Bonus\")\n",
    "|> Chart.withTitle \"Martial-Caster Attack Disparity\"\n"
   ]
  },
  {
   "cell_type": "code",
   "execution_count": null,
   "metadata": {
    "dotnet_interactive": {
     "language": "fsharp"
    },
    "polyglot_notebook": {
     "kernelName": "fsharp"
    }
   },
   "outputs": [],
   "source": [
    "let spoutPoints = \n",
    "  transformedResultsByRollByLevel spout CreatureSave middleSave (casterDc true) bestiaryByLevel 2\n",
    "  |> resultsByRollByLevelToXyz\n",
    "  |> Seq.map savingThrowNormalize\n",
    "  |> Seq.toArray\n",
    "\n",
    "let arbalestPoints =\n",
    "  transformedResultsByRollByLevel martialArbalest PlayerAttack creatureAc (highMartialAttack true) bestiaryByLevel 2\n",
    "  |> resultsByRollByLevelToXyz\n",
    "  |> Seq.toArray \n",
    "\n",
    "[\n",
    "  Chart.Scatter3D(\n",
    "    xyz = spoutPoints,\n",
    "    mode = StyleParam.Mode.Markers,\n",
    "    Name = \"Spout Damage\"\n",
    "  );\n",
    "  Chart.Scatter3D(\n",
    "    xyz = arbalestPoints,\n",
    "    mode = StyleParam.Mode.Markers,\n",
    "    Name = \"Arbalest Damage\"\n",
    "  )\n",
    "  // Chart.Mesh3D(\n",
    "  //   xyz = spoutPoints,\n",
    "  //   ShowLegend = true,\n",
    "  //   Name = \"Spout Damage\",\n",
    "  //   Opacity = 1.0\n",
    "  // );\n",
    "  // Chart.Mesh3D(\n",
    "  //   xyz = arbalestPoints,\n",
    "  //   ShowLegend = true,\n",
    "  //   Name = \"Arbalest Damage\",\n",
    "  //   Opacity = 0.5\n",
    "  // )\n",
    "]\n",
    "|> Chart.combine\n",
    "|> Chart.withXAxisStyle(\"Character Level\", Id = StyleParam.SubPlotId.Scene 1)\n",
    "|> Chart.withYAxisStyle(\"Player Roll Luck\", Id = StyleParam.SubPlotId.Scene 1)\n",
    "|> Chart.withZAxisStyle(\"Average Damage\")\n",
    "|> Chart.withTitle \"Spout Cantrip vs. Martial Arbalest Against PL+2 Creatures\"\n",
    "|> Chart.withSize (800.0, 800.0)"
   ]
  },
  {
   "cell_type": "code",
   "execution_count": null,
   "metadata": {
    "dotnet_interactive": {
     "language": "fsharp"
    },
    "polyglot_notebook": {
     "kernelName": "fsharp"
    }
   },
   "outputs": [],
   "source": [
    "let spoutPoints = \n",
    "  transformedResultsByRollByLevel spout CreatureSave middleSave (casterDc true) bestiaryByLevel 2\n",
    "  |> resultsByRollByLevelToRollsAndAveragesByLevel\n",
    "  |> savingThrowNormalizeRollsAndAveragesByLevel\n",
    "  |> Seq.toArray\n",
    "\n",
    "let arbalestPoints =\n",
    "  transformedResultsByRollByLevel martialArbalest PlayerAttack creatureAc (highMartialAttack true) bestiaryByLevel 2\n",
    "  |> resultsByRollByLevelToRollsAndAveragesByLevel\n",
    "  |> Seq.toArray \n",
    "\n",
    "Array.zip spoutPoints arbalestPoints\n",
    "  |> Array.map (fun (spouts, arbalests) -> \n",
    "    let (level, spoutXy) = spouts\n",
    "    let arbalestXy = second arbalests\n",
    "    let spoutAverage = rollAveragesToAverage spoutXy\n",
    "    let arbalestAverage = rollAveragesToAverage arbalestXy\n",
    "\n",
    "    [\n",
    "      Chart.Line(\n",
    "        xy = spoutXy,\n",
    "        Name = sprintf \"Spout %.1f\" spoutAverage,\n",
    "        ShowMarkers = true\n",
    "      );\n",
    "      Chart.Line(\n",
    "        xy = arbalestXy,\n",
    "        Name = sprintf \"Arbalest %.1f\" arbalestAverage,\n",
    "        ShowMarkers = true\n",
    "\n",
    "      );\n",
    "    ]\n",
    "    |> Chart.combine\n",
    "    |> Chart.withLineStyle(Shape = StyleParam.Shape.Hvh)\n",
    "    |> Chart.withXAxisStyle(\"Player Roll Luck\")\n",
    "    |> Chart.withYAxisStyle(\"Average Damage\")\n",
    "    |> Chart.withTitle (sprintf \"Middle Save - Level %i - Spout Cantrip vs. Martial Arbalest Against Level %i Creatures\" level (level+2))\n",
    "    |> Chart.withSize (800.0, 800.0)\n",
    "  )"
   ]
  }
 ],
 "metadata": {
  "kernelspec": {
   "display_name": ".NET (F#)",
   "language": "F#",
   "name": ".net-fsharp"
  },
  "language_info": {
   "name": "polyglot-notebook"
  },
  "polyglot_notebook": {
   "kernelInfo": {
    "defaultKernelName": "fsharp",
    "items": [
     {
      "aliases": [],
      "languageName": "fsharp",
      "name": "fsharp"
     }
    ]
   }
  }
 },
 "nbformat": 4,
 "nbformat_minor": 2
}
