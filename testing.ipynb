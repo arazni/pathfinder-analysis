{
 "cells": [
  {
   "cell_type": "code",
   "execution_count": 4,
   "metadata": {
    "dotnet_interactive": {
     "language": "fsharp"
    },
    "polyglot_notebook": {
     "kernelName": "fsharp"
    }
   },
   "outputs": [
    {
     "data": {
      "text/html": [
       "<div><div></div><div></div><div><strong>Installed Packages</strong><ul><li><span>FSharp.Json, 0.4.1</span></li><li><span>Plotly.NET.Interactive, 5.0.0</span></li></ul></div></div>"
      ]
     },
     "metadata": {},
     "output_type": "display_data"
    },
    {
     "data": {
      "text/plain": [
       "Loading extensions from `C:\\Users\\emmer\\.nuget\\packages\\plotly.net.interactive\\5.0.0\\lib\\netstandard2.1\\Plotly.NET.Interactive.dll`"
      ]
     },
     "metadata": {},
     "output_type": "display_data"
    }
   ],
   "source": [
    "#r \"nuget: Plotly.NET.Interactive\"\n",
    "#r \"nuget: FSharp.Json\"\n",
    "  // #r \"nuget: Plotly.NET.ImageExport\"\n",
    "\n",
    "open Plotly.NET\n",
    "// open Plotly.NET.ImageExport  \n",
    "\n",
    "#load \"Helpers.fs\"\n",
    "#load \"Bestiary.fs\"\n",
    "#load \"Compare.fs\"\n",
    "#load \"Library.fs\"\n",
    "#load \"Transform.fs\"\n",
    "\n",
    "open PathfinderAnalysis.Library\n",
    "open PathfinderAnalysis.Bestiary\n",
    "open PathfinderAnalysis.Compare\n",
    "open PathfinderAnalysis.Transform\n",
    "open PathfinderAnalysis.Helpers"
   ]
  },
  {
   "cell_type": "code",
   "execution_count": null,
   "metadata": {
    "dotnet_interactive": {
     "language": "fsharp"
    },
    "polyglot_notebook": {
     "kernelName": "fsharp"
    }
   },
   "outputs": [],
   "source": [
    "let titleFn level = \n",
    "  sprintf \"Middle Save - Level %i - Spout Cantrip vs. Martial Bow Against Level %i Creatures\" level (level+2)\n",
    "\n",
    "let mapShortbowAverages =\n",
    "  transformedResultsByRollByLevel martialShortbow PlayerAttack creatureAc ((+) -5 << highMartialAttack true) bestiaryByLevel 2\n",
    "  |> Seq.map resultRollsToAverages\n",
    "\n",
    "let shortbowAverages =\n",
    "  transformedResultsByRollByLevel martialShortbow PlayerAttack creatureAc (highMartialAttack true) bestiaryByLevel 2\n",
    "  |> Seq.map resultRollsToAverages\n",
    "\n",
    "[|\n",
    "  { \n",
    "    AveragesByRollsByLevel = transformedResultsByRollByLevel spout CreatureSave middleSave (casterDc true) bestiaryByLevel 2\n",
    "      |> Seq.map resultRollsToAverages\n",
    "      |> Seq.map normalizeSavingThrowsForLevel\n",
    "      |> Seq.toArray;\n",
    "    Title = \"Spout\"\n",
    "  };\n",
    "  { \n",
    "    AveragesByRollsByLevel = transformedResultsByRollByLevel telekineticProjectile PlayerAttack creatureAc (casterAttack true false) bestiaryByLevel 2\n",
    "      |> Seq.map resultRollsToAverages\n",
    "      |> Seq.toArray;\n",
    "    Title = \"Telekinetic Projectile\"\n",
    "  };\n",
    "  {\n",
    "    AveragesByRollsByLevel = transformedResultsByRollByLevel martialArbalest PlayerAttack creatureAc (highMartialAttack true) bestiaryByLevel 2\n",
    "      |> Seq.map resultRollsToAverages\n",
    "      |> Seq.toArray;\n",
    "    Title = \"Arbalest (1 shot)\"\n",
    "  };\n",
    "  {\n",
    "    AveragesByRollsByLevel = mergeRollAveragesByLevel shortbowAverages mapShortbowAverages\n",
    "      |> Seq.toArray;\n",
    "    Title = \"Shortbow (2 shots)\"\n",
    "  }\n",
    "|]\n",
    "|> flatten\n",
    "|> generateCharts titleFn\n",
    "// |> Seq.iteri (fun i chart -> Chart.savePNG (path = (sprintf \"spout-arbalest-%02i\" i)) chart)\n",
    "// |> ignore\n"
   ]
  },
  {
   "cell_type": "code",
   "execution_count": null,
   "metadata": {
    "dotnet_interactive": {
     "language": "fsharp"
    },
    "polyglot_notebook": {
     "kernelName": "fsharp"
    }
   },
   "outputs": [],
   "source": [
    "let titleFn level = \n",
    "  sprintf \"Middle Save - Level %i - Caster Focus Spells vs. Fighter Weapons Against Level %i Creatures\" level (level+2)\n",
    "\n",
    "let mapShortbowAverages =\n",
    "  transformedResultsByRollByLevel fighterShortbow PlayerAttack creatureAc ((+) -5 << highFighterAttack true) bestiaryByLevel 2\n",
    "  |> Seq.map resultRollsToAverages\n",
    "\n",
    "let shortbowAverages =\n",
    "  transformedResultsByRollByLevel fighterShortbow PlayerAttack creatureAc (highFighterAttack true) bestiaryByLevel 2\n",
    "  |> Seq.map resultRollsToAverages\n",
    "\n",
    "let doubleShotAverages =\n",
    "  transformedResultsByRollByLevel fighterShortbow PlayerAttack creatureAc ((+) -2 << highFighterAttack true) bestiaryByLevel 2\n",
    "  |> Seq.map resultRollsToAverages\n",
    "\n",
    "[|\n",
    "  { \n",
    "    AveragesByRollsByLevel = transformedResultsByRollByLevel tempestSurge CreatureSave middleSave (casterDc true) bestiaryByLevel 2\n",
    "      |> Seq.map resultRollsToAverages\n",
    "      |> Seq.map normalizeSavingThrowsForLevel\n",
    "      |> Seq.toArray;\n",
    "    Title = \"Tempest Surge\"\n",
    "  };\n",
    "  { \n",
    "    AveragesByRollsByLevel = transformedResultsByRollByLevel fireRay PlayerAttack creatureAc (casterAttack true false) bestiaryByLevel 2\n",
    "      |> Seq.map resultRollsToAverages\n",
    "      |> Seq.toArray;\n",
    "    Title = \"Fire Ray\";\n",
    "  };\n",
    "  {\n",
    "    AveragesByRollsByLevel = transformedResultsByRollByLevel fighterArbalest PlayerAttack creatureAc (highFighterAttack true) bestiaryByLevel 2\n",
    "      |> Seq.map resultRollsToAverages\n",
    "      |> Seq.toArray;\n",
    "    Title = \"Arbalest (1 shot)\"\n",
    "  };\n",
    "  {\n",
    "    AveragesByRollsByLevel = mergeRollAveragesByLevel shortbowAverages mapShortbowAverages\n",
    "      |> Seq.toArray;\n",
    "    Title = \"Shortbow (2 shots)\"\n",
    "  };\n",
    "  {\n",
    "    AveragesByRollsByLevel = mergeRollAveragesByLevel doubleShotAverages doubleShotAverages\n",
    "      |> Seq.toArray;\n",
    "    Title = \"Shortbow (Double Shot)\"\n",
    "  }\n",
    "|]\n",
    "|> flatten\n",
    "|> generateCharts titleFn"
   ]
  },
  {
   "cell_type": "code",
   "execution_count": null,
   "metadata": {
    "dotnet_interactive": {
     "language": "fsharp"
    },
    "polyglot_notebook": {
     "kernelName": "fsharp"
    }
   },
   "outputs": [],
   "source": [
    "let monsterLevelDiff = 4\n",
    "\n",
    "let titleFn level = \n",
    "  sprintf \"Middle Save - Level %i - Caster Single-Target vs. Fighter Weapons Against Level %i Creatures\" level (level+monsterLevelDiff)\n",
    "\n",
    "let longswordAverage =\n",
    "  transformedResultsByRollByLevel fighterLongsword PlayerAttack creatureAc (highFighterAttack true) bestiaryByLevel monsterLevelDiff\n",
    "  |> Seq.map resultRollsToAverages\n",
    "\n",
    "let shortswordAverage =\n",
    "  transformedResultsByRollByLevel fighterShortsword PlayerAttack creatureAc (highFighterAttack true) bestiaryByLevel monsterLevelDiff\n",
    "  |> Seq.map resultRollsToAverages\n",
    "\n",
    "[|\n",
    "  { \n",
    "    AveragesByRollsByLevel = transformedResultsByRollByLevel thunderstrike CreatureSave middleSave (casterDc true) bestiaryByLevel monsterLevelDiff\n",
    "      |> Seq.map resultRollsToAverages\n",
    "      |> Seq.map normalizeSavingThrowsForLevel\n",
    "      |> Seq.toArray;\n",
    "    Title = \"Thunderstrike\"\n",
    "  };\n",
    "  {\n",
    "    AveragesByRollsByLevel = mergeRollAveragesByLevel longswordAverage shortswordAverage\n",
    "      |> Seq.toArray;\n",
    "    Title = \"Double Slice\"\n",
    "  };\n",
    "  {\n",
    "    AveragesByRollsByLevel = transformedResultsByRollByLevel (forceBarrage 3) PlayerAttack creatureAc (highFighterAttack true) bestiaryByLevel monsterLevelDiff\n",
    "    |> Seq.map resultRollsToAverages\n",
    "    |> Seq.toArray;\n",
    "    Title = \"3-action force barrage\"\n",
    "  }\n",
    "|]\n",
    "|> flatten\n",
    "|> generateCharts titleFn"
   ]
  },
  {
   "cell_type": "code",
   "execution_count": 35,
   "metadata": {
    "dotnet_interactive": {
     "language": "fsharp"
    },
    "polyglot_notebook": {
     "kernelName": "fsharp"
    }
   },
   "outputs": [
    {
     "data": {
      "text/html": [
       "<div><div id=\"943e4432-3f6c-44d8-b75d-508357bc91b8\"><!-- Plotly chart will be drawn inside this DIV --></div><script type=\"text/javascript\">\n",
       "var renderPlotly_943e44323f6c44d8b75d508357bc91b8 = function() {\n",
       "    var fsharpPlotlyRequire = requirejs.config({context:'fsharp-plotly',paths:{plotly:'https://cdn.plot.ly/plotly-2.27.1.min'}}) || require;\n",
       "    fsharpPlotlyRequire(['plotly'], function(Plotly) {\n",
       "        var data = [{\"type\":\"scatter\",\"mode\":\"lines+markers+text\",\"x\":[1,2,3,4,5,6,7,8,9,10,11,12,13,14,15,16,17,18,19,20],\"y\":[29.90810835041964,33.39335702254916,35.17501061681711,36.43372969481184,37.48712278692963,38.416521102426806,39.23878214667985,40.0,40.978255299317205,41.6653879658486,42.3346120341514,43.021744700682795,44.0,44.76121785332015,45.583478897573194,46.51287721307037,47.56627030518816,48.82498938318289,50.60664297745084,54.09189164958036],\"text\":[\"30\",\"33\",\"35\",\"36\",\"37\",\"38\",\"39\",\"40\",\"41\",\"42\",\"42\",\"43\",\"44\",\"45\",\"46\",\"47\",\"48\",\"49\",\"51\",\"54\"],\"textposition\":\"top center\",\"marker\":{},\"line\":{}}];\n",
       "        var layout = {\"width\":600,\"height\":600,\"template\":{\"layout\":{\"title\":{\"x\":0.05},\"font\":{\"color\":\"rgba(42, 63, 95, 1.0)\"},\"paper_bgcolor\":\"rgba(255, 255, 255, 1.0)\",\"plot_bgcolor\":\"rgba(229, 236, 246, 1.0)\",\"autotypenumbers\":\"strict\",\"colorscale\":{\"diverging\":[[0.0,\"#8e0152\"],[0.1,\"#c51b7d\"],[0.2,\"#de77ae\"],[0.3,\"#f1b6da\"],[0.4,\"#fde0ef\"],[0.5,\"#f7f7f7\"],[0.6,\"#e6f5d0\"],[0.7,\"#b8e186\"],[0.8,\"#7fbc41\"],[0.9,\"#4d9221\"],[1.0,\"#276419\"]],\"sequential\":[[0.0,\"#0d0887\"],[0.1111111111111111,\"#46039f\"],[0.2222222222222222,\"#7201a8\"],[0.3333333333333333,\"#9c179e\"],[0.4444444444444444,\"#bd3786\"],[0.5555555555555556,\"#d8576b\"],[0.6666666666666666,\"#ed7953\"],[0.7777777777777778,\"#fb9f3a\"],[0.8888888888888888,\"#fdca26\"],[1.0,\"#f0f921\"]],\"sequentialminus\":[[0.0,\"#0d0887\"],[0.1111111111111111,\"#46039f\"],[0.2222222222222222,\"#7201a8\"],[0.3333333333333333,\"#9c179e\"],[0.4444444444444444,\"#bd3786\"],[0.5555555555555556,\"#d8576b\"],[0.6666666666666666,\"#ed7953\"],[0.7777777777777778,\"#fb9f3a\"],[0.8888888888888888,\"#fdca26\"],[1.0,\"#f0f921\"]]},\"hovermode\":\"closest\",\"hoverlabel\":{\"align\":\"left\"},\"coloraxis\":{\"colorbar\":{\"outlinewidth\":0.0,\"ticks\":\"\"}},\"geo\":{\"showland\":true,\"landcolor\":\"rgba(229, 236, 246, 1.0)\",\"showlakes\":true,\"lakecolor\":\"rgba(255, 255, 255, 1.0)\",\"subunitcolor\":\"rgba(255, 255, 255, 1.0)\",\"bgcolor\":\"rgba(255, 255, 255, 1.0)\"},\"mapbox\":{\"style\":\"light\"},\"polar\":{\"bgcolor\":\"rgba(229, 236, 246, 1.0)\",\"radialaxis\":{\"linecolor\":\"rgba(255, 255, 255, 1.0)\",\"gridcolor\":\"rgba(255, 255, 255, 1.0)\",\"ticks\":\"\"},\"angularaxis\":{\"linecolor\":\"rgba(255, 255, 255, 1.0)\",\"gridcolor\":\"rgba(255, 255, 255, 1.0)\",\"ticks\":\"\"}},\"scene\":{\"xaxis\":{\"ticks\":\"\",\"linecolor\":\"rgba(255, 255, 255, 1.0)\",\"gridcolor\":\"rgba(255, 255, 255, 1.0)\",\"gridwidth\":2.0,\"zerolinecolor\":\"rgba(255, 255, 255, 1.0)\",\"backgroundcolor\":\"rgba(229, 236, 246, 1.0)\",\"showbackground\":true},\"yaxis\":{\"ticks\":\"\",\"linecolor\":\"rgba(255, 255, 255, 1.0)\",\"gridcolor\":\"rgba(255, 255, 255, 1.0)\",\"gridwidth\":2.0,\"zerolinecolor\":\"rgba(255, 255, 255, 1.0)\",\"backgroundcolor\":\"rgba(229, 236, 246, 1.0)\",\"showbackground\":true},\"zaxis\":{\"ticks\":\"\",\"linecolor\":\"rgba(255, 255, 255, 1.0)\",\"gridcolor\":\"rgba(255, 255, 255, 1.0)\",\"gridwidth\":2.0,\"zerolinecolor\":\"rgba(255, 255, 255, 1.0)\",\"backgroundcolor\":\"rgba(229, 236, 246, 1.0)\",\"showbackground\":true}},\"ternary\":{\"aaxis\":{\"ticks\":\"\",\"linecolor\":\"rgba(255, 255, 255, 1.0)\",\"gridcolor\":\"rgba(255, 255, 255, 1.0)\"},\"baxis\":{\"ticks\":\"\",\"linecolor\":\"rgba(255, 255, 255, 1.0)\",\"gridcolor\":\"rgba(255, 255, 255, 1.0)\"},\"caxis\":{\"ticks\":\"\",\"linecolor\":\"rgba(255, 255, 255, 1.0)\",\"gridcolor\":\"rgba(255, 255, 255, 1.0)\"},\"bgcolor\":\"rgba(229, 236, 246, 1.0)\"},\"xaxis\":{\"title\":{\"standoff\":15},\"ticks\":\"\",\"automargin\":\"height+width+left+right+top+bottom\",\"linecolor\":\"rgba(255, 255, 255, 1.0)\",\"gridcolor\":\"rgba(255, 255, 255, 1.0)\",\"zerolinecolor\":\"rgba(255, 255, 255, 1.0)\",\"zerolinewidth\":2.0},\"yaxis\":{\"title\":{\"standoff\":15},\"ticks\":\"\",\"automargin\":\"height+width+left+right+top+bottom\",\"linecolor\":\"rgba(255, 255, 255, 1.0)\",\"gridcolor\":\"rgba(255, 255, 255, 1.0)\",\"zerolinecolor\":\"rgba(255, 255, 255, 1.0)\",\"zerolinewidth\":2.0},\"annotationdefaults\":{\"arrowcolor\":\"#2a3f5f\",\"arrowhead\":0,\"arrowwidth\":1},\"shapedefaults\":{\"line\":{\"color\":\"rgba(42, 63, 95, 1.0)\"}},\"colorway\":[\"rgba(99, 110, 250, 1.0)\",\"rgba(239, 85, 59, 1.0)\",\"rgba(0, 204, 150, 1.0)\",\"rgba(171, 99, 250, 1.0)\",\"rgba(255, 161, 90, 1.0)\",\"rgba(25, 211, 243, 1.0)\",\"rgba(255, 102, 146, 1.0)\",\"rgba(182, 232, 128, 1.0)\",\"rgba(255, 151, 255, 1.0)\",\"rgba(254, 203, 82, 1.0)\"]},\"data\":{\"bar\":[{\"marker\":{\"line\":{\"color\":\"rgba(229, 236, 246, 1.0)\",\"width\":0.5},\"pattern\":{\"fillmode\":\"overlay\",\"size\":10,\"solidity\":0.2}},\"error_x\":{\"color\":\"rgba(42, 63, 95, 1.0)\"},\"error_y\":{\"color\":\"rgba(42, 63, 95, 1.0)\"}}],\"barpolar\":[{\"marker\":{\"line\":{\"color\":\"rgba(229, 236, 246, 1.0)\",\"width\":0.5},\"pattern\":{\"fillmode\":\"overlay\",\"size\":10,\"solidity\":0.2}}}],\"carpet\":[{\"aaxis\":{\"linecolor\":\"rgba(255, 255, 255, 1.0)\",\"gridcolor\":\"rgba(255, 255, 255, 1.0)\",\"endlinecolor\":\"rgba(42, 63, 95, 1.0)\",\"minorgridcolor\":\"rgba(255, 255, 255, 1.0)\",\"startlinecolor\":\"rgba(42, 63, 95, 1.0)\"},\"baxis\":{\"linecolor\":\"rgba(255, 255, 255, 1.0)\",\"gridcolor\":\"rgba(255, 255, 255, 1.0)\",\"endlinecolor\":\"rgba(42, 63, 95, 1.0)\",\"minorgridcolor\":\"rgba(255, 255, 255, 1.0)\",\"startlinecolor\":\"rgba(42, 63, 95, 1.0)\"}}],\"choropleth\":[{\"colorbar\":{\"outlinewidth\":0.0,\"ticks\":\"\"},\"colorscale\":[[0.0,\"#0d0887\"],[0.1111111111111111,\"#46039f\"],[0.2222222222222222,\"#7201a8\"],[0.3333333333333333,\"#9c179e\"],[0.4444444444444444,\"#bd3786\"],[0.5555555555555556,\"#d8576b\"],[0.6666666666666666,\"#ed7953\"],[0.7777777777777778,\"#fb9f3a\"],[0.8888888888888888,\"#fdca26\"],[1.0,\"#f0f921\"]]}],\"contour\":[{\"colorbar\":{\"outlinewidth\":0.0,\"ticks\":\"\"},\"colorscale\":[[0.0,\"#0d0887\"],[0.1111111111111111,\"#46039f\"],[0.2222222222222222,\"#7201a8\"],[0.3333333333333333,\"#9c179e\"],[0.4444444444444444,\"#bd3786\"],[0.5555555555555556,\"#d8576b\"],[0.6666666666666666,\"#ed7953\"],[0.7777777777777778,\"#fb9f3a\"],[0.8888888888888888,\"#fdca26\"],[1.0,\"#f0f921\"]]}],\"contourcarpet\":[{\"colorbar\":{\"outlinewidth\":0.0,\"ticks\":\"\"}}],\"heatmap\":[{\"colorbar\":{\"outlinewidth\":0.0,\"ticks\":\"\"},\"colorscale\":[[0.0,\"#0d0887\"],[0.1111111111111111,\"#46039f\"],[0.2222222222222222,\"#7201a8\"],[0.3333333333333333,\"#9c179e\"],[0.4444444444444444,\"#bd3786\"],[0.5555555555555556,\"#d8576b\"],[0.6666666666666666,\"#ed7953\"],[0.7777777777777778,\"#fb9f3a\"],[0.8888888888888888,\"#fdca26\"],[1.0,\"#f0f921\"]]}],\"heatmapgl\":[{\"colorbar\":{\"outlinewidth\":0.0,\"ticks\":\"\"},\"colorscale\":[[0.0,\"#0d0887\"],[0.1111111111111111,\"#46039f\"],[0.2222222222222222,\"#7201a8\"],[0.3333333333333333,\"#9c179e\"],[0.4444444444444444,\"#bd3786\"],[0.5555555555555556,\"#d8576b\"],[0.6666666666666666,\"#ed7953\"],[0.7777777777777778,\"#fb9f3a\"],[0.8888888888888888,\"#fdca26\"],[1.0,\"#f0f921\"]]}],\"histogram\":[{\"marker\":{\"pattern\":{\"fillmode\":\"overlay\",\"size\":10,\"solidity\":0.2}}}],\"histogram2d\":[{\"colorbar\":{\"outlinewidth\":0.0,\"ticks\":\"\"},\"colorscale\":[[0.0,\"#0d0887\"],[0.1111111111111111,\"#46039f\"],[0.2222222222222222,\"#7201a8\"],[0.3333333333333333,\"#9c179e\"],[0.4444444444444444,\"#bd3786\"],[0.5555555555555556,\"#d8576b\"],[0.6666666666666666,\"#ed7953\"],[0.7777777777777778,\"#fb9f3a\"],[0.8888888888888888,\"#fdca26\"],[1.0,\"#f0f921\"]]}],\"histogram2dcontour\":[{\"colorbar\":{\"outlinewidth\":0.0,\"ticks\":\"\"},\"colorscale\":[[0.0,\"#0d0887\"],[0.1111111111111111,\"#46039f\"],[0.2222222222222222,\"#7201a8\"],[0.3333333333333333,\"#9c179e\"],[0.4444444444444444,\"#bd3786\"],[0.5555555555555556,\"#d8576b\"],[0.6666666666666666,\"#ed7953\"],[0.7777777777777778,\"#fb9f3a\"],[0.8888888888888888,\"#fdca26\"],[1.0,\"#f0f921\"]]}],\"mesh3d\":[{\"colorbar\":{\"outlinewidth\":0.0,\"ticks\":\"\"}}],\"parcoords\":[{\"line\":{\"colorbar\":{\"outlinewidth\":0.0,\"ticks\":\"\"}}}],\"pie\":[{\"automargin\":true}],\"scatter\":[{\"marker\":{\"colorbar\":{\"outlinewidth\":0.0,\"ticks\":\"\"}}}],\"scatter3d\":[{\"marker\":{\"colorbar\":{\"outlinewidth\":0.0,\"ticks\":\"\"}},\"line\":{\"colorbar\":{\"outlinewidth\":0.0,\"ticks\":\"\"}}}],\"scattercarpet\":[{\"marker\":{\"colorbar\":{\"outlinewidth\":0.0,\"ticks\":\"\"}}}],\"scattergeo\":[{\"marker\":{\"colorbar\":{\"outlinewidth\":0.0,\"ticks\":\"\"}}}],\"scattergl\":[{\"marker\":{\"colorbar\":{\"outlinewidth\":0.0,\"ticks\":\"\"}}}],\"scattermapbox\":[{\"marker\":{\"colorbar\":{\"outlinewidth\":0.0,\"ticks\":\"\"}}}],\"scatterpolar\":[{\"marker\":{\"colorbar\":{\"outlinewidth\":0.0,\"ticks\":\"\"}}}],\"scatterpolargl\":[{\"marker\":{\"colorbar\":{\"outlinewidth\":0.0,\"ticks\":\"\"}}}],\"scatterternary\":[{\"marker\":{\"colorbar\":{\"outlinewidth\":0.0,\"ticks\":\"\"}}}],\"surface\":[{\"colorbar\":{\"outlinewidth\":0.0,\"ticks\":\"\"},\"colorscale\":[[0.0,\"#0d0887\"],[0.1111111111111111,\"#46039f\"],[0.2222222222222222,\"#7201a8\"],[0.3333333333333333,\"#9c179e\"],[0.4444444444444444,\"#bd3786\"],[0.5555555555555556,\"#d8576b\"],[0.6666666666666666,\"#ed7953\"],[0.7777777777777778,\"#fb9f3a\"],[0.8888888888888888,\"#fdca26\"],[1.0,\"#f0f921\"]]}],\"table\":[{\"cells\":{\"fill\":{\"color\":\"rgba(235, 240, 248, 1.0)\"},\"line\":{\"color\":\"rgba(255, 255, 255, 1.0)\"}},\"header\":{\"fill\":{\"color\":\"rgba(200, 212, 227, 1.0)\"},\"line\":{\"color\":\"rgba(255, 255, 255, 1.0)\"}}}]}},\"xaxis\":{\"title\":{\"text\":\"D20 Result\"}},\"yaxis\":{\"title\":{\"text\":\"Estimated Roll Sum\"}},\"title\":{\"text\":\"Roll Sum of 12d6 (average: 42.0) mapped onto a d20\"}};\n",
       "        var config = {\"responsive\":true};\n",
       "        Plotly.newPlot('943e4432-3f6c-44d8-b75d-508357bc91b8', data, layout, config);\n",
       "    });\n",
       "};\n",
       "if ((typeof(requirejs) !==  typeof(Function)) || (typeof(requirejs.config) !== typeof(Function))) {\n",
       "    var script = document.createElement(\"script\");\n",
       "    script.setAttribute(\"charset\", \"utf-8\");\n",
       "    script.setAttribute(\"src\", \"https://cdnjs.cloudflare.com/ajax/libs/require.js/2.3.6/require.min.js\");\n",
       "    script.onload = function(){\n",
       "        renderPlotly_943e44323f6c44d8b75d508357bc91b8();\n",
       "    };\n",
       "    document.getElementsByTagName(\"head\")[0].appendChild(script);\n",
       "}\n",
       "else {\n",
       "    renderPlotly_943e44323f6c44d8b75d508357bc91b8();\n",
       "}\n",
       "</script></div>"
      ]
     },
     "metadata": {},
     "output_type": "display_data"
    }
   ],
   "source": [
    "#load \"DamageDistribution.fs\"\n",
    "\n",
    "open PathfinderAnalysis.DamageDistribution\n",
    "\n",
    "let die = D6\n",
    "let rolls = 12\n",
    "let nBuckets = 20\n",
    "\n",
    "let average =\n",
    "  float rolls * averageRoll die\n",
    "\n",
    "let values = \n",
    "  rollDistribution die rolls\n",
    "  |> chunk nBuckets\n",
    "  |> chunksToAverages\n",
    "\n",
    "let title = sprintf \"Roll Sum of %i%s (average: %.1f) mapped onto a d%i\" rolls (rollNotation die) average nBuckets\n",
    "\n",
    "Chart.Line(\n",
    "  x = List.map first values,\n",
    "  y = List.map second values,\n",
    "  ShowMarkers = true,\n",
    "  MultiText = (List.map second values |> List.map (sprintf \"%.0f\")),\n",
    "  TextPosition = StyleParam.TextPosition.TopCenter\n",
    ")\n",
    "|> Chart.withXAxisStyle(TitleText = \"D20 Result\")\n",
    "|> Chart.withYAxisStyle(TitleText = \"Estimated Roll Sum\")\n",
    "|> Chart.withTitle(title)\n",
    "\n"
   ]
  }
 ],
 "metadata": {
  "kernelspec": {
   "display_name": ".NET (C#)",
   "language": "C#",
   "name": ".net-csharp"
  },
  "language_info": {
   "name": "polyglot-notebook"
  },
  "polyglot_notebook": {
   "kernelInfo": {
    "defaultKernelName": "csharp",
    "items": [
     {
      "aliases": [],
      "name": "csharp"
     },
     {
      "aliases": [],
      "languageName": "fsharp",
      "name": "fsharp"
     }
    ]
   }
  }
 },
 "nbformat": 4,
 "nbformat_minor": 2
}
