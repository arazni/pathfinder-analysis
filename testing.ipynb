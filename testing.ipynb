{
 "cells": [
  {
   "cell_type": "code",
   "execution_count": null,
   "metadata": {
    "dotnet_interactive": {
     "language": "fsharp"
    },
    "polyglot_notebook": {
     "kernelName": "fsharp"
    }
   },
   "outputs": [],
   "source": [
    "#r \"nuget: Plotly.NET.Interactive\"\n",
    "#r \"nuget: FSharp.Json\"\n",
    "  // #r \"nuget: Plotly.NET.ImageExport\"\n",
    "\n",
    "open Plotly.NET\n",
    "// open Plotly.NET.ImageExport  \n",
    "\n",
    "#load \"Helpers.fs\"\n",
    "#load \"Bestiary.fs\"\n",
    "#load \"Compare.fs\"\n",
    "#load \"Library.fs\"\n",
    "#load \"Transform.fs\"\n",
    "\n",
    "open PathfinderAnalysis.Library\n",
    "open PathfinderAnalysis.Bestiary\n",
    "open PathfinderAnalysis.Compare\n",
    "open PathfinderAnalysis.Transform\n",
    "open PathfinderAnalysis.Helpers"
   ]
  },
  {
   "cell_type": "code",
   "execution_count": null,
   "metadata": {
    "dotnet_interactive": {
     "language": "fsharp"
    },
    "polyglot_notebook": {
     "kernelName": "fsharp"
    }
   },
   "outputs": [],
   "source": [
    "let titleFn level = \n",
    "  sprintf \"Middle Save - Level %i - Spout Cantrip vs. Martial Bow Against Level %i Creatures\" level (level+2)\n",
    "\n",
    "let mapShortbowAverages =\n",
    "  transformedResultsByRollByLevel martialShortbow PlayerAttack creatureAc ((+) -5 << highMartialAttack true) bestiaryByLevel 2\n",
    "  |> Seq.map resultRollsToAverages\n",
    "\n",
    "let shortbowAverages =\n",
    "  transformedResultsByRollByLevel martialShortbow PlayerAttack creatureAc (highMartialAttack true) bestiaryByLevel 2\n",
    "  |> Seq.map resultRollsToAverages\n",
    "\n",
    "[|\n",
    "  { \n",
    "    AveragesByRollsByLevel = transformedResultsByRollByLevel spout CreatureSave middleSave (casterDc true) bestiaryByLevel 2\n",
    "      |> Seq.map resultRollsToAverages\n",
    "      |> Seq.map normalizeSavingThrowsForLevel\n",
    "      |> Seq.toArray;\n",
    "    Title = \"Spout\"\n",
    "  };\n",
    "  { \n",
    "    AveragesByRollsByLevel = transformedResultsByRollByLevel telekineticProjectile PlayerAttack creatureAc (casterAttack true false) bestiaryByLevel 2\n",
    "      |> Seq.map resultRollsToAverages\n",
    "      |> Seq.toArray;\n",
    "    Title = \"Telekinetic Projectile\"\n",
    "  };\n",
    "  {\n",
    "    AveragesByRollsByLevel = transformedResultsByRollByLevel martialArbalest PlayerAttack creatureAc (highMartialAttack true) bestiaryByLevel 2\n",
    "      |> Seq.map resultRollsToAverages\n",
    "      |> Seq.toArray;\n",
    "    Title = \"Arbalest (1 shot)\"\n",
    "  };\n",
    "  {\n",
    "    AveragesByRollsByLevel = mergeRollAveragesByLevel shortbowAverages mapShortbowAverages\n",
    "      |> Seq.toArray;\n",
    "    Title = \"Shortbow (2 shots)\"\n",
    "  }\n",
    "|]\n",
    "|> flatten\n",
    "|> generateCharts titleFn\n",
    "// |> Seq.iteri (fun i chart -> Chart.savePNG (path = (sprintf \"spout-arbalest-%02i\" i)) chart)\n",
    "// |> ignore\n"
   ]
  },
  {
   "cell_type": "code",
   "execution_count": null,
   "metadata": {
    "dotnet_interactive": {
     "language": "fsharp"
    },
    "polyglot_notebook": {
     "kernelName": "fsharp"
    }
   },
   "outputs": [],
   "source": [
    "let titleFn level = \n",
    "  sprintf \"Middle Save - Level %i - Caster Focus Spells vs. Fighter Weapons Against Level %i Creatures\" level (level+2)\n",
    "\n",
    "let mapShortbowAverages =\n",
    "  transformedResultsByRollByLevel fighterShortbow PlayerAttack creatureAc ((+) -5 << highFighterAttack true) bestiaryByLevel 2\n",
    "  |> Seq.map resultRollsToAverages\n",
    "\n",
    "let shortbowAverages =\n",
    "  transformedResultsByRollByLevel fighterShortbow PlayerAttack creatureAc (highFighterAttack true) bestiaryByLevel 2\n",
    "  |> Seq.map resultRollsToAverages\n",
    "\n",
    "let doubleShotAverages =\n",
    "  transformedResultsByRollByLevel fighterShortbow PlayerAttack creatureAc ((+) -2 << highFighterAttack true) bestiaryByLevel 2\n",
    "  |> Seq.map resultRollsToAverages\n",
    "\n",
    "[|\n",
    "  { \n",
    "    AveragesByRollsByLevel = transformedResultsByRollByLevel tempestSurge CreatureSave middleSave (casterDc true) bestiaryByLevel 2\n",
    "      |> Seq.map resultRollsToAverages\n",
    "      |> Seq.map normalizeSavingThrowsForLevel\n",
    "      |> Seq.toArray;\n",
    "    Title = \"Tempest Surge\"\n",
    "  };\n",
    "  { \n",
    "    AveragesByRollsByLevel = transformedResultsByRollByLevel fireRay PlayerAttack creatureAc (casterAttack true false) bestiaryByLevel 2\n",
    "      |> Seq.map resultRollsToAverages\n",
    "      |> Seq.toArray;\n",
    "    Title = \"Fire Ray\";\n",
    "  };\n",
    "  {\n",
    "    AveragesByRollsByLevel = transformedResultsByRollByLevel fighterArbalest PlayerAttack creatureAc (highFighterAttack true) bestiaryByLevel 2\n",
    "      |> Seq.map resultRollsToAverages\n",
    "      |> Seq.toArray;\n",
    "    Title = \"Arbalest (1 shot)\"\n",
    "  };\n",
    "  {\n",
    "    AveragesByRollsByLevel = mergeRollAveragesByLevel shortbowAverages mapShortbowAverages\n",
    "      |> Seq.toArray;\n",
    "    Title = \"Shortbow (2 shots)\"\n",
    "  };\n",
    "  {\n",
    "    AveragesByRollsByLevel = mergeRollAveragesByLevel doubleShotAverages doubleShotAverages\n",
    "      |> Seq.toArray;\n",
    "    Title = \"Shortbow (Double Shot)\"\n",
    "  }\n",
    "|]\n",
    "|> flatten\n",
    "|> generateCharts titleFn"
   ]
  },
  {
   "cell_type": "code",
   "execution_count": null,
   "metadata": {
    "dotnet_interactive": {
     "language": "fsharp"
    },
    "polyglot_notebook": {
     "kernelName": "fsharp"
    }
   },
   "outputs": [],
   "source": [
    "let monsterLevelDiff = 4\n",
    "\n",
    "let titleFn level = \n",
    "  sprintf \"Middle Save - Level %i - Caster Single-Target vs. Fighter Weapons Against Level %i Creatures\" level (level+monsterLevelDiff)\n",
    "\n",
    "let longswordAverage =\n",
    "  transformedResultsByRollByLevel fighterLongsword PlayerAttack creatureAc (highFighterAttack true) bestiaryByLevel monsterLevelDiff\n",
    "  |> Seq.map resultRollsToAverages\n",
    "\n",
    "let shortswordAverage =\n",
    "  transformedResultsByRollByLevel fighterShortsword PlayerAttack creatureAc (highFighterAttack true) bestiaryByLevel monsterLevelDiff\n",
    "  |> Seq.map resultRollsToAverages\n",
    "\n",
    "[|\n",
    "  { \n",
    "    AveragesByRollsByLevel = transformedResultsByRollByLevel thunderstrike CreatureSave middleSave (casterDc true) bestiaryByLevel monsterLevelDiff\n",
    "      |> Seq.map resultRollsToAverages\n",
    "      |> Seq.map normalizeSavingThrowsForLevel\n",
    "      |> Seq.toArray;\n",
    "    Title = \"Thunderstrike\"\n",
    "  };\n",
    "  {\n",
    "    AveragesByRollsByLevel = mergeRollAveragesByLevel longswordAverage shortswordAverage\n",
    "      |> Seq.toArray;\n",
    "    Title = \"Double Slice\"\n",
    "  };\n",
    "  {\n",
    "    AveragesByRollsByLevel = transformedResultsByRollByLevel (forceBarrage 3) PlayerAttack creatureAc (highFighterAttack true) bestiaryByLevel monsterLevelDiff\n",
    "    |> Seq.map resultRollsToAverages\n",
    "    |> Seq.toArray;\n",
    "    Title = \"3-action force barrage\"\n",
    "  }\n",
    "|]\n",
    "|> flatten\n",
    "|> generateCharts titleFn"
   ]
  },
  {
   "cell_type": "code",
   "execution_count": null,
   "metadata": {
    "dotnet_interactive": {
     "language": "fsharp"
    },
    "polyglot_notebook": {
     "kernelName": "fsharp"
    }
   },
   "outputs": [],
   "source": [
    "#load \"DamageDistribution.fs\"\n",
    "\n",
    "open PathfinderAnalysis.DamageDistribution\n",
    "\n",
    "let die = D6\n",
    "let rolls = 12\n",
    "let nBuckets = 20\n",
    "\n",
    "let average =\n",
    "  float rolls * averageRoll die\n",
    "\n",
    "let values = \n",
    "  rollDistribution die rolls\n",
    "  |> chunk nBuckets\n",
    "  |> chunksToAverages\n",
    "\n",
    "let title = sprintf \"Roll Sum of %i%s (average: %.1f) mapped onto a d%i\" rolls (rollNotation die) average nBuckets\n",
    "\n",
    "Chart.Line(\n",
    "  x = List.map first values,\n",
    "  y = List.map second values,\n",
    "  ShowMarkers = true,\n",
    "  MultiText = (List.map second values |> List.map (sprintf \"%.0f\")),\n",
    "  TextPosition = StyleParam.TextPosition.TopCenter\n",
    ")\n",
    "|> Chart.withXAxisStyle(TitleText = \"D20 Result\")\n",
    "|> Chart.withYAxisStyle(TitleText = \"Estimated Roll Sum\")\n",
    "|> Chart.withTitle(title)\n",
    "\n"
   ]
  }
 ],
 "metadata": {
  "kernelspec": {
   "display_name": ".NET (C#)",
   "language": "C#",
   "name": ".net-csharp"
  },
  "language_info": {
   "name": "polyglot-notebook"
  },
  "polyglot_notebook": {
   "kernelInfo": {
    "defaultKernelName": "csharp",
    "items": [
     {
      "aliases": [],
      "name": "csharp"
     },
     {
      "aliases": [],
      "languageName": "fsharp",
      "name": "fsharp"
     }
    ]
   }
  }
 },
 "nbformat": 4,
 "nbformat_minor": 2
}
