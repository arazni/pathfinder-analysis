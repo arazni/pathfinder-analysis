{
 "cells": [
  {
   "cell_type": "code",
   "execution_count": null,
   "metadata": {
    "dotnet_interactive": {
     "language": "fsharp"
    },
    "polyglot_notebook": {
     "kernelName": "fsharp"
    }
   },
   "outputs": [],
   "source": [
    "#r \"nuget: Plotly.NET.Interactive\"\n",
    "#r \"nuget: FSharp.Json\"\n",
    "  // #r \"nuget: Plotly.NET.ImageExport\"\n",
    "\n",
    "open Plotly.NET\n",
    "// open Plotly.NET.ImageExport  \n",
    "\n",
    "#load \"Helpers.fs\"\n",
    "#load \"Bestiary.fs\"\n",
    "#load \"Compare.fs\"\n",
    "#load \"DamageDistribution.fs\"\n",
    "#load \"Library.fs\"\n",
    "#load \"Transform.fs\"\n",
    "#load \"ChartTools.fs\"\n",
    "\n",
    "open PathfinderAnalysis.Library\n",
    "open PathfinderAnalysis.Bestiary\n",
    "open PathfinderAnalysis.Compare\n",
    "open PathfinderAnalysis.Transform\n",
    "open PathfinderAnalysis.Helpers\n",
    "open PathfinderAnalysis.DamageDistribution\n",
    "open PathfinderAnalysis.ChartTools"
   ]
  },
  {
   "cell_type": "code",
   "execution_count": null,
   "metadata": {
    "dotnet_interactive": {
     "language": "fsharp"
    },
    "polyglot_notebook": {
     "kernelName": "fsharp"
    }
   },
   "outputs": [],
   "source": [
    "// cantrip tier - benchmark: 9.5\n",
    "let creatureLevelBump = 2\n",
    "\n",
    "let titleFn level = \n",
    "  sprintf \"Middle Save - Level %i - Spout Cantrip vs. Martial Bow Against Level %i Creatures\" level (level+creatureLevelBump)\n",
    "\n",
    "[|\n",
    "  {\n",
    "    AveragesByRollsByLevel = transformedResultsByRollByLevel martialArbalest PlayerAttack creatureAc (highMartialAttack true) bestiaryByLevel creatureLevelBump\n",
    "      |> Seq.map resultRollsToAverages\n",
    "      |> Seq.toArray;\n",
    "    Title = \"🤺 Arbalest (1 shot) ❖\"\n",
    "  };\n",
    "  {\n",
    "    AveragesByRollsByLevel = mapMerge (highMartialAttack true) creatureLevelBump 5 martialArbalest;\n",
    "    Title = \"🤺 Arbalest (2 shots) ❖❖❖\"\n",
    "  };\n",
    "  {\n",
    "    AveragesByRollsByLevel = mapMerge (highMartialAttack true) creatureLevelBump 5 martialShortbow;\n",
    "    Title = \"🤺 Shortbow (2 shots) ❖❖\"\n",
    "  };\n",
    "  { \n",
    "    AveragesByRollsByLevel = transformedResultsByRollByLevel telekineticProjectile PlayerAttack creatureAc (casterAttack true false) bestiaryByLevel creatureLevelBump\n",
    "      |> Seq.map resultRollsToAverages\n",
    "      |> Seq.toArray;\n",
    "    Title = \"🩸 Telekinetic Projectile ❖❖\"\n",
    "  };\n",
    "  standardSpellChart \"🌿 Spout (Middle) ❖❖\" spout SaveSelector.Middle creatureLevelBump;\n",
    "  standardSpellChart \"🌿 Spout (Lowest) ❖❖\" spout SaveSelector.Lowest creatureLevelBump;\n",
    "  standardSpellChart \"🌿 Spout (Highest) ❖❖\" spout SaveSelector.Highest creatureLevelBump;\n",
    "  standardSpellChart \"🌿 Spout (Reflex) ❖❖\" spout SaveSelector.Reflex creatureLevelBump;\n",
    "  // { \n",
    "  //   AveragesByRollsByLevel = transformedResultsByRollByLevel tempestSurge CreatureSave highestSave (casterDc true) bestiaryByLevel creatureLevelBump\n",
    "  //     |> Seq.map resultRollsToAverages\n",
    "  //     |> Seq.map normalizeSavingThrowsForLevel\n",
    "  //     |> Seq.toArray;\n",
    "  //   Title = \"🌿 Tempest Surge (Highest) ❖❖\"\n",
    "  // };\n",
    "|]\n",
    "|> flatten\n",
    "// |> generateCharts titleFn\n",
    "|> generateLevelScaleChart (sprintf \"Caster and Martial Backup Options (no Property Runes) - Creatures PL+%i\" creatureLevelBump)\n",
    "// |> Seq.iteri (fun i chart -> Chart.savePNG (path = (sprintf \"spout-arbalest-%02i\" i)) chart)\n",
    "// |> ignore\n"
   ]
  },
  {
   "cell_type": "code",
   "execution_count": null,
   "metadata": {
    "dotnet_interactive": {
     "language": "fsharp"
    },
    "polyglot_notebook": {
     "kernelName": "fsharp"
    }
   },
   "outputs": [],
   "source": [
    "// focus spell tier - benchmark: 21\n",
    "let creatureLevelBump = 2\n",
    "\n",
    "let titleFn level = \n",
    "  sprintf \"Level %i - Focus Spells and Favored Ranged Weapons Against Level %i Creatures\" level (level+creatureLevelBump)\n",
    "\n",
    "[|\n",
    "  fighterLongbowDoubleShotChart creatureLevelBump;\n",
    "  fighterLongbow2StrikesChart creatureLevelBump;\n",
    "  sorcererDragonBreath1MiddleTargetChart creatureLevelBump;\n",
    "  clericFireRayMovesChart creatureLevelBump;\n",
    "  clericFireRayStaysChart creatureLevelBump;\n",
    "  druidTempestSurgeChart SaveSelector.Middle creatureLevelBump;\n",
    "  druidTempestSurgeChart SaveSelector.Lowest creatureLevelBump;\n",
    "  druidTempestSurgeChart SaveSelector.Highest creatureLevelBump;\n",
    "  druidTempestSurgeChart SaveSelector.Reflex creatureLevelBump;\n",
    "  // fighterLongbowIncredibleAimChart creatureLevelBump;\n",
    "  // fighterLongbow3StrikesChart creatureLevelBump;\n",
    "  // fighterLongbowTripleShotChart creatureLevelBump;\n",
    "  // fighterLongbowDoubleShotThenStrikeChart creatureLevelBump;\n",
    "  // fighterLongbowStrikeThenDoubleShotChart creatureLevelBump;\n",
    "  // fighterLongbowIncredibleAimThenStrikeChart creatureLevelBump;\n",
    "  // fighterLongbowMultiShotStanceTripleShotChart creatureLevelBump;\n",
    "  // highestRankForceBarrage2ActionChart creatureLevelBump;\n",
    "  // highestRankForceBarrage3ActionChart creatureLevelBump;\n",
    "|]\n",
    "|> flatten\n",
    "// |> generateCharts titleFn \n",
    "|> generateLevelScaleChart (sprintf \"Focus Spells and Favored Ranged Weapons - Creatures PL+%i\" creatureLevelBump)\n"
   ]
  },
  {
   "cell_type": "code",
   "execution_count": null,
   "metadata": {
    "dotnet_interactive": {
     "language": "fsharp"
    },
    "polyglot_notebook": {
     "kernelName": "fsharp"
    }
   },
   "outputs": [],
   "source": [
    "// slotted spell tier - benchmark: 30\n",
    "let creatureLevelBump = 2\n",
    "\n",
    "let titleFn level = \n",
    "  sprintf \"Level %i - Caster Single-Target Ranged Spells and Martial Melee Weapons - Level %i Creatures\" level (level+creatureLevelBump)\n",
    "\n",
    "[|\n",
    "  barbarianGreatsword2StrikesChart creatureLevelBump;\n",
    "  fighterGreatsword2StrikesChart creatureLevelBump;\n",
    "  fighterDoubleSliceChart creatureLevelBump;\n",
    "  // highestRankForceBarrage2ActionChart creatureLevelBump;\n",
    "  highestRankForceBarrage3ActionChart creatureLevelBump;\n",
    "  druidThunderstrikeChart SaveSelector.Middle creatureLevelBump;\n",
    "  druidThunderstrikeChart SaveSelector.Lowest creatureLevelBump;\n",
    "  druidThunderstrikeChart SaveSelector.Highest creatureLevelBump;\n",
    "  druidThunderstrikeChart SaveSelector.Reflex creatureLevelBump;\n",
    "  clericFireRayStaysChart creatureLevelBump;\n",
    "|]\n",
    "|> flatten\n",
    "// |> generateCharts titleFn\n",
    "|> generateLevelScaleChart (sprintf \"Caster Single-Target Ranged Spells and Martial Melee Weapons - Creatures PL+%i\" creatureLevelBump)"
   ]
  },
  {
   "cell_type": "code",
   "execution_count": null,
   "metadata": {
    "dotnet_interactive": {
     "language": "fsharp"
    },
    "polyglot_notebook": {
     "kernelName": "fsharp"
    }
   },
   "outputs": [],
   "source": [
    "// damage mapped to d20\n",
    "open PathfinderAnalysis.DamageDistribution\n",
    "\n",
    "let dicePool = [D12, 4; D6, 3; D4, 2]\n",
    "let nBuckets = 20\n",
    "\n",
    "let values = \n",
    "  rollDistributions 0 dicePool\n",
    "  |> Seq.toList\n",
    "  |> chunkRolls nBuckets\n",
    "  |> chunksToAverages\n",
    "  |> Seq.toList\n",
    "\n",
    "let title = sprintf \"Roll Sum of %A mapped onto a d%i\" dicePool nBuckets\n",
    "\n",
    "Chart.Line(\n",
    "  x = List.map first values,\n",
    "  y = List.map second values,\n",
    "  ShowMarkers = true,\n",
    "  MultiText = (List.map second values |> List.map (sprintf \"%.0f\")),\n",
    "  TextPosition = StyleParam.TextPosition.TopCenter\n",
    ")\n",
    "|> Chart.withXAxisStyle(TitleText = \"D20 Result\")\n",
    "|> Chart.withYAxisStyle(TitleText = \"Estimated Roll Sum\")\n",
    "|> Chart.withTitle(title)\n",
    "\n"
   ]
  },
  {
   "cell_type": "code",
   "execution_count": null,
   "metadata": {
    "dotnet_interactive": {
     "language": "fsharp"
    },
    "polyglot_notebook": {
     "kernelName": "fsharp"
    }
   },
   "outputs": [],
   "source": [
    "// turn luck mapped to d20\n",
    "#load \"ChartTools.fs\"\n",
    "open PathfinderAnalysis.ChartTools\n",
    "\n",
    "open PathfinderAnalysis.DamageDistribution\n",
    "\n",
    "let creatureLevelBump = 2\n",
    "\n",
    "let titleFn level =\n",
    "  sprintf \"Level %i - Druid vs. Fighter Against Level %i Creatures (AC: %.1f DC: %.1f)\" level (level + creatureLevelBump) (average creatureAc level) (average middleSave level + 10.0)\n",
    "\n",
    "let fighterLongbowBucketsForLevel pcLevel =\n",
    "  [|\n",
    "    { HitRollCount = 1; HitModifier = highFighterAttack true pcLevel; Contest = PlayerAttack; CreatureDefenseFunction = creatureAc; DamageFunction = diceFighterLongbow pcLevel };\n",
    "    { HitRollCount = 1; HitModifier = highFighterAttack true pcLevel - 5; Contest = PlayerAttack; CreatureDefenseFunction = creatureAc; DamageFunction = diceFighterLongbow pcLevel };\n",
    "  |]\n",
    "  |> bigThingStandardChunk bestiaryByLevel[pcLevel + creatureLevelBump]\n",
    "\n",
    "// let fighterShortbowBucketsForLevel pcLevel =\n",
    "//   [|\n",
    "//     { HitRollCount = 1; HitModifier = highFighterAttack true pcLevel; Contest = PlayerAttack; CreatureDefenseFunction = creatureAc; DamageFunction = diceFighterShortbow pcLevel };\n",
    "//     { HitRollCount = 1; HitModifier = highFighterAttack true pcLevel - 5; Contest = PlayerAttack; CreatureDefenseFunction = creatureAc; DamageFunction = diceFighterShortbow pcLevel };\n",
    "//   |]\n",
    "//   |> bigThingStandardChunk bestiaryByLevel[pcLevel + creatureLevelBump]\n",
    "\n",
    "let druidReflexBuckets pcLevel =\n",
    "  [|\n",
    "    { HitRollCount = 1; HitModifier = casterDc true pcLevel; Contest = CreatureSave; CreatureDefenseFunction = (fun c -> c.reflex + c.hasMagicBonus); DamageFunction = diceDamageTempestSurge pcLevel };\n",
    "  |]\n",
    "  |> bigThingStandardChunk bestiaryByLevel[pcLevel + creatureLevelBump]\n",
    "\n",
    "let druidMiddleBuckets pcLevel =\n",
    "  [|\n",
    "    { HitRollCount = 1; HitModifier = casterDc true pcLevel; Contest = CreatureSave; CreatureDefenseFunction = middleSave; DamageFunction = diceDamageTempestSurge pcLevel };\n",
    "  |]\n",
    "  |> bigThingStandardChunk bestiaryByLevel[pcLevel + creatureLevelBump]\n",
    "\n",
    "let druidMiddleThunderstrikeBuckets pcLevel =\n",
    "  [|\n",
    "    { HitRollCount = 1; HitModifier = casterDc true pcLevel; Contest = CreatureSave; CreatureDefenseFunction = middleSave; DamageFunction = diceDamageThunderstrike pcLevel };\n",
    "  |]\n",
    "  |> bigThingStandardChunk bestiaryByLevel[pcLevel + creatureLevelBump]\n",
    "\n",
    "let sorcererMiddleThunderstrikeBuckets pcLevel =\n",
    "  [|\n",
    "    { HitRollCount = 1; HitModifier = casterDc true pcLevel; Contest = CreatureSave; CreatureDefenseFunction = middleSave; DamageFunction = diceSorcererThunderstrike pcLevel };\n",
    "  |]\n",
    "  |> bigThingStandardChunk bestiaryByLevel[pcLevel + creatureLevelBump]\n",
    "\n",
    "let fighterGreatswordBucketsForLevel pcLevel =\n",
    "  [|\n",
    "    { HitRollCount = 1; HitModifier = highFighterAttack true pcLevel; Contest = PlayerAttack; CreatureDefenseFunction = creatureAc; DamageFunction = diceFighterGreatsword pcLevel };\n",
    "    { HitRollCount = 1; HitModifier = highFighterAttack true pcLevel - 5; Contest = PlayerAttack; CreatureDefenseFunction = creatureAc; DamageFunction = diceFighterGreatsword pcLevel };\n",
    "  |]\n",
    "  |> bigThingStandardChunk bestiaryByLevel[pcLevel + creatureLevelBump]\n",
    "\n",
    "let fighterLongswordBucketsForLevel pcLevel =\n",
    "  [|\n",
    "    { HitRollCount = 1; HitModifier = highFighterAttack true pcLevel; Contest = PlayerAttack; CreatureDefenseFunction = creatureAc; DamageFunction = diceFighterLongsword pcLevel };\n",
    "    { HitRollCount = 1; HitModifier = highFighterAttack true pcLevel - 5; Contest = PlayerAttack; CreatureDefenseFunction = creatureAc; DamageFunction = diceFighterLongsword pcLevel };\n",
    "  |]\n",
    "  |> bigThingStandardChunk bestiaryByLevel[pcLevel + creatureLevelBump]\n",
    "\n",
    "let barbarianGreatswordBucketsForLevel pcLevel =\n",
    "  [|\n",
    "    { HitRollCount = 1; HitModifier = highMartialAttack true pcLevel; Contest = PlayerAttack; CreatureDefenseFunction = creatureAc; DamageFunction = diceBarbarianGreatsword pcLevel };\n",
    "    { HitRollCount = 1; HitModifier = highMartialAttack true pcLevel - 5; Contest = PlayerAttack; CreatureDefenseFunction = creatureAc; DamageFunction = diceBarbarianGreatsword pcLevel };\n",
    "  |]\n",
    "  |> bigThingStandardChunk bestiaryByLevel[pcLevel + creatureLevelBump]\n",
    "\n",
    "let fighterDoubleSliceBucketsForLevel pcLevel =\n",
    "  [|\n",
    "    { HitRollCount = 1; HitModifier = highFighterAttack true pcLevel; Contest = PlayerAttack; CreatureDefenseFunction = creatureAc; DamageFunction = diceFighterLongsword pcLevel };\n",
    "    { HitRollCount = 1; HitModifier = highFighterAttack true pcLevel; Contest = PlayerAttack; CreatureDefenseFunction = creatureAc; DamageFunction = diceFighterShortsword pcLevel };\n",
    "  |]\n",
    "  |> bigThingStandardChunk bestiaryByLevel[pcLevel + creatureLevelBump]\n",
    "\n",
    "// [1;5;7;13;15]\n",
    "[13;15]\n",
    "|> List.map (fun level -> [\n",
    "  // \"Tempest Surge (Reflex)\", level, druidReflexBuckets level;\n",
    "  // \"Longbow (2 Strikes)\", level, fighterLongbowBucketsForLevel level;\n",
    "  // \"Tempest Surge (Middle)\", level, druidMiddleBuckets level;\n",
    "  // \"Shortbow (2 Strikes)\", level, fighterShortbowBucketsForLevel level\n",
    "  // \"⚔️ Longsword (2 Strikes) ❖❖\", level, fighterLongswordBucketsForLevel level;\n",
    "  // \"⚔️ Greatsword (2 Strikes) ❖❖\", level, fighterGreatswordBucketsForLevel level;\n",
    "  \"🐉 Greatsword (2 Strikes) ❖❖\", level, barbarianGreatswordBucketsForLevel level;\n",
    "  // \"🌿 Thunderstrike (Middle) ❖❖\", level, druidMiddleThunderstrikeBuckets level;\n",
    "  \"🩸 Thunderstrike (Middle) ❖❖\", level, sorcererMiddleThunderstrikeBuckets level;\n",
    "  \"⚔️ Double Slice (Swords) ❖❖\", level, fighterDoubleSliceBucketsForLevel level;\n",
    "])\n",
    "|> Seq.collect (fun titledBucketsByLevel -> Seq.map (fun (title, level, bucket) -> chunksToFlatChartData title level bucket) titledBucketsByLevel)\n",
    "// |> generateChartsPercent titleFn creatureLevelBump\n",
    "|> generateChartsTTK titleFn creatureLevelBump\n",
    "// |> generateTTKHistogram titleFn creatureLevelBump\n",
    "// |> generateLevelScaleChart (sprintf \"Reflex Save - Druid vs. Fighter Creatures PL+%i\" creatureLevelBump)\n"
   ]
  },
  {
   "cell_type": "code",
   "execution_count": null,
   "metadata": {
    "dotnet_interactive": {
     "language": "fsharp"
    },
    "polyglot_notebook": {
     "kernelName": "fsharp"
    }
   },
   "outputs": [],
   "source": [
    "// bigthing histogram\n",
    "\n",
    "#load \"ChartTools.fs\"\n",
    "open PathfinderAnalysis.ChartTools\n",
    "\n",
    "let creatureLevelBump = 2\n",
    "\n",
    "let titleFn level =\n",
    "  sprintf \"Level %i - Turn Damage vs. Level %i Creatures (AC: %.1f DC: %.1f)\" level (level + creatureLevelBump) (average creatureAc level) (average middleSave level + 10.0)\n",
    "\n",
    "let fighterDoubleSliceAll pcLevel =\n",
    "  [|\n",
    "    { HitRollCount = 1; HitModifier = highFighterAttack true pcLevel; Contest = PlayerAttack; CreatureDefenseFunction = creatureAc; DamageFunction = diceFighterLongsword pcLevel };\n",
    "    { HitRollCount = 1; HitModifier = highFighterAttack true pcLevel; Contest = PlayerAttack; CreatureDefenseFunction = creatureAc; DamageFunction = diceFighterShortsword pcLevel };\n",
    "  |]\n",
    "  |> theBigThing bestiaryByLevel[pcLevel + creatureLevelBump]\n",
    "\n",
    "let sorcererMiddleThunderstrikeAll pcLevel =\n",
    "  [|\n",
    "    { HitRollCount = 1; HitModifier = casterDc true pcLevel; Contest = CreatureSave; CreatureDefenseFunction = middleSave; DamageFunction = diceSorcererThunderstrike pcLevel };\n",
    "  |]\n",
    "  |> theBigThing bestiaryByLevel[pcLevel + creatureLevelBump]\n",
    "\n",
    "let barbarianGreatswordTwiceAll pcLevel =\n",
    "  [|\n",
    "    { HitRollCount = 1; HitModifier = highMartialAttack true pcLevel; Contest = PlayerAttack; CreatureDefenseFunction = creatureAc; DamageFunction = diceBarbarianGreatsword pcLevel };\n",
    "    { HitRollCount = 1; HitModifier = highMartialAttack true pcLevel - 5; Contest = PlayerAttack; CreatureDefenseFunction = creatureAc; DamageFunction = diceBarbarianGreatsword pcLevel };\n",
    "  |]\n",
    "  |> theBigThing bestiaryByLevel[pcLevel + creatureLevelBump]\n",
    "\n",
    "let wizardForceBarrageAll actions pcLevel =\n",
    "  [|\n",
    "    { HitRollCount = 1; HitModifier = casterAttack true false pcLevel; Contest = PlayerAttack; CreatureDefenseFunction = creatureAc; DamageFunction = diceDamageForceBarrage actions pcLevel  }\n",
    "  |]\n",
    "  |> theBigThing bestiaryByLevel[pcLevel + creatureLevelBump]\n",
    "[9]\n",
    "|> Seq.map (fun level -> [\n",
    "  \"🩸 Thunderstrike (Middle) ❖❖\", level, sorcererMiddleThunderstrikeAll level;\n",
    "  \"⚔️ Double Slice (Swords) ❖❖\", level, fighterDoubleSliceAll level;\n",
    "  \"🐉 Greatsword (2 Strikes) ❖❖\", level, barbarianGreatswordTwiceAll level;\n",
    "  \"🧙 Force Barrage ❖❖\", level, wizardForceBarrageAll 2 level;\n",
    "  \"🧙 Force Barrage ❖❖❖\", level, wizardForceBarrageAll 3 level;\n",
    "])\n",
    "|> generateShape titleFn\n",
    "  "
   ]
  }
 ],
 "metadata": {
  "kernelspec": {
   "display_name": ".NET (C#)",
   "language": "C#",
   "name": ".net-csharp"
  },
  "language_info": {
   "name": "polyglot-notebook"
  },
  "polyglot_notebook": {
   "kernelInfo": {
    "defaultKernelName": "csharp",
    "items": [
     {
      "aliases": [],
      "name": "csharp"
     },
     {
      "aliases": [],
      "languageName": "fsharp",
      "name": "fsharp"
     }
    ]
   }
  }
 },
 "nbformat": 4,
 "nbformat_minor": 2
}
