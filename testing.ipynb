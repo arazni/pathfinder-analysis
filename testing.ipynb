{
 "cells": [
  {
   "cell_type": "code",
   "execution_count": 15,
   "metadata": {
    "dotnet_interactive": {
     "language": "fsharp"
    },
    "polyglot_notebook": {
     "kernelName": "fsharp"
    }
   },
   "outputs": [
    {
     "data": {
      "text/html": [
       "<div><div></div><div></div><div><strong>Installed Packages</strong><ul><li><span>FSharp.Json, 0.4.1</span></li><li><span>Plotly.NET.Interactive, 5.0.0</span></li></ul></div></div>"
      ]
     },
     "metadata": {},
     "output_type": "display_data"
    }
   ],
   "source": [
    "#r \"nuget: Plotly.NET.Interactive\"\n",
    "#r \"nuget: FSharp.Json\"\n",
    "  // #r \"nuget: Plotly.NET.ImageExport\"\n",
    "\n",
    "open Plotly.NET\n",
    "// open Plotly.NET.ImageExport  \n",
    "\n",
    "#load \"Helpers.fs\"\n",
    "#load \"Bestiary.fs\"\n",
    "#load \"Compare.fs\"\n",
    "#load \"DamageDistribution.fs\"\n",
    "#load \"Library.fs\"\n",
    "#load \"Transform.fs\"\n",
    "\n",
    "open PathfinderAnalysis.Library\n",
    "open PathfinderAnalysis.Bestiary\n",
    "open PathfinderAnalysis.Compare\n",
    "open PathfinderAnalysis.Transform\n",
    "open PathfinderAnalysis.Helpers"
   ]
  },
  {
   "cell_type": "code",
   "execution_count": 8,
   "metadata": {
    "dotnet_interactive": {
     "language": "fsharp"
    },
    "polyglot_notebook": {
     "kernelName": "fsharp"
    }
   },
   "outputs": [],
   "source": [
    "let creatureLevelBump = creatureLevelBump\n",
    "\n",
    "let titleFn level = \n",
    "  sprintf \"Middle Save - Level %i - Spout Cantrip vs. Martial Bow Against Level %i Creatures\" level (level+creatureLevelBump)\n",
    "\n",
    "[|\n",
    "  { \n",
    "    AveragesByRollsByLevel = transformedResultsByRollByLevel spout CreatureSave middleSave (casterDc true) bestiaryByLevel creatureLevelBump\n",
    "      |> Seq.map resultRollsToAverages\n",
    "      |> Seq.map normalizeSavingThrowsForLevel\n",
    "      |> Seq.toArray;\n",
    "    Title = \"Spout (Middle)\"\n",
    "  };\n",
    "  { \n",
    "    AveragesByRollsByLevel = transformedResultsByRollByLevel telekineticProjectile PlayerAttack creatureAc (casterAttack true false) bestiaryByLevel creatureLevelBump\n",
    "      |> Seq.map resultRollsToAverages\n",
    "      |> Seq.toArray;\n",
    "    Title = \"Telekinetic Projectile\"\n",
    "  };\n",
    "  {\n",
    "    AveragesByRollsByLevel = transformedResultsByRollByLevel martialArbalest PlayerAttack creatureAc (highMartialAttack true) bestiaryByLevel creatureLevelBump\n",
    "      |> Seq.map resultRollsToAverages\n",
    "      |> Seq.toArray;\n",
    "    Title = \"Arbalest (1 shot, no PR)\"\n",
    "  };\n",
    "  {\n",
    "    AveragesByRollsByLevel = mapMerge (highMartialAttack true) creatureLevelBump 5 martialShortbow;\n",
    "    Title = \"Shortbow (2 shots, no PR)\"\n",
    "  }\n",
    "|]\n",
    "|> flatten\n",
    "// |> generateCharts titleFn\n",
    "|> generateLevelScaleChart (sprintf \"Druid vs. Martial Accuracy - Creatures PL+%i\" creatureLevelBump)\n",
    "// |> Seq.iteri (fun i chart -> Chart.savePNG (path = (sprintf \"spout-arbalest-%02i\" i)) chart)\n",
    "// |> ignore\n"
   ]
  },
  {
   "cell_type": "code",
   "execution_count": 14,
   "metadata": {
    "dotnet_interactive": {
     "language": "fsharp"
    },
    "polyglot_notebook": {
     "kernelName": "fsharp"
    }
   },
   "outputs": [
    {
     "data": {
      "text/html": [
       "<div><div id=\"d51463b7-9c3d-4ed3-a2ec-04e8b91d42a5\"><!-- Plotly chart will be drawn inside this DIV --></div><script type=\"text/javascript\">\n",
       "var renderPlotly_d51463b79c3d4ed3a2ec04e8b91d42a5 = function() {\n",
       "    var fsharpPlotlyRequire = requirejs.config({context:'fsharp-plotly',paths:{plotly:'https://cdn.plot.ly/plotly-2.27.1.min'}}) || require;\n",
       "    fsharpPlotlyRequire(['plotly'], function(Plotly) {\n",
       "        var data = [{\"type\":\"scatter\",\"name\":\"Tempest Surge 21.0\",\"mode\":\"lines+markers\",\"x\":[1,2,3,4,5,6,7,8,9,10,11,12,13,14,15,16,17,18,19,20],\"y\":[4.342553191489361,4.00316011235955,7.991713483146064,7.499074074074073,11.031173780487801,10.837500000000002,15.978014184397162,15.494074074074078,18.295021186440678,19.58677184466019,23.340652173913043,21.22714285714286,24.456250000000004,22.926041666666666,29.96,31.61219512195123,33.72890625,33.245758928571426,39.541666666666664,44.57142857142857],\"marker\":{},\"line\":{\"shape\":\"hvh\"}},{\"type\":\"scatter\",\"name\":\"Longbow (2 Strikes) 21.3\",\"mode\":\"lines+markers\",\"x\":[1,2,3,4,5,6,7,8,9,10,11,12,13,14,15,16,17,18,19,20],\"y\":[5.576595744680851,5.395926966292135,5.484269662921349,9.41311728395062,11.90579268292683,10.228254437869824,13.531560283687943,15.18148148148148,15.317161016949152,20.383009708737863,20.649565217391306,23.57952380952381,30.338749999999997,26.777380952380952,29.346153846153847,35.12926829268292,38.871875,33.90535714285714,38.278125,37.08214285714286],\"marker\":{},\"line\":{\"shape\":\"hvh\"}},{\"type\":\"scatter\",\"name\":\"Longbow (Double Shot) 21.7\",\"mode\":\"lines+markers\",\"x\":[1,2,3,4,5,6,7,8,9,10,11,12,13,14,15,16,17,18,19,20],\"y\":[5.496010638297872,5.38623595505618,5.464044943820225,9.741666666666667,11.73140243902439,10.281952662721896,13.668085106382978,15.771481481481482,15.849576271186441,20.710679611650484,21.050434782608697,24.508095238095237,29.872000000000003,27.28392857142857,30.011538461538464,35.88414634146341,39.05,34.785714285714285,39.40625,38.14999999999999],\"marker\":{},\"line\":{\"shape\":\"hvh\"}}];\n",
       "        var layout = {\"width\":800,\"height\":800,\"template\":{\"layout\":{\"title\":{\"x\":0.05},\"font\":{\"color\":\"rgba(42, 63, 95, 1.0)\"},\"paper_bgcolor\":\"rgba(255, 255, 255, 1.0)\",\"plot_bgcolor\":\"rgba(229, 236, 246, 1.0)\",\"autotypenumbers\":\"strict\",\"colorscale\":{\"diverging\":[[0.0,\"#8e0152\"],[0.1,\"#c51b7d\"],[0.2,\"#de77ae\"],[0.3,\"#f1b6da\"],[0.4,\"#fde0ef\"],[0.5,\"#f7f7f7\"],[0.6,\"#e6f5d0\"],[0.7,\"#b8e186\"],[0.8,\"#7fbc41\"],[0.9,\"#4d9221\"],[1.0,\"#276419\"]],\"sequential\":[[0.0,\"#0d0887\"],[0.1111111111111111,\"#46039f\"],[0.2222222222222222,\"#7201a8\"],[0.3333333333333333,\"#9c179e\"],[0.4444444444444444,\"#bd3786\"],[0.5555555555555556,\"#d8576b\"],[0.6666666666666666,\"#ed7953\"],[0.7777777777777778,\"#fb9f3a\"],[0.8888888888888888,\"#fdca26\"],[1.0,\"#f0f921\"]],\"sequentialminus\":[[0.0,\"#0d0887\"],[0.1111111111111111,\"#46039f\"],[0.2222222222222222,\"#7201a8\"],[0.3333333333333333,\"#9c179e\"],[0.4444444444444444,\"#bd3786\"],[0.5555555555555556,\"#d8576b\"],[0.6666666666666666,\"#ed7953\"],[0.7777777777777778,\"#fb9f3a\"],[0.8888888888888888,\"#fdca26\"],[1.0,\"#f0f921\"]]},\"hovermode\":\"closest\",\"hoverlabel\":{\"align\":\"left\"},\"coloraxis\":{\"colorbar\":{\"outlinewidth\":0.0,\"ticks\":\"\"}},\"geo\":{\"showland\":true,\"landcolor\":\"rgba(229, 236, 246, 1.0)\",\"showlakes\":true,\"lakecolor\":\"rgba(255, 255, 255, 1.0)\",\"subunitcolor\":\"rgba(255, 255, 255, 1.0)\",\"bgcolor\":\"rgba(255, 255, 255, 1.0)\"},\"mapbox\":{\"style\":\"light\"},\"polar\":{\"bgcolor\":\"rgba(229, 236, 246, 1.0)\",\"radialaxis\":{\"linecolor\":\"rgba(255, 255, 255, 1.0)\",\"gridcolor\":\"rgba(255, 255, 255, 1.0)\",\"ticks\":\"\"},\"angularaxis\":{\"linecolor\":\"rgba(255, 255, 255, 1.0)\",\"gridcolor\":\"rgba(255, 255, 255, 1.0)\",\"ticks\":\"\"}},\"scene\":{\"xaxis\":{\"ticks\":\"\",\"linecolor\":\"rgba(255, 255, 255, 1.0)\",\"gridcolor\":\"rgba(255, 255, 255, 1.0)\",\"gridwidth\":2.0,\"zerolinecolor\":\"rgba(255, 255, 255, 1.0)\",\"backgroundcolor\":\"rgba(229, 236, 246, 1.0)\",\"showbackground\":true},\"yaxis\":{\"ticks\":\"\",\"linecolor\":\"rgba(255, 255, 255, 1.0)\",\"gridcolor\":\"rgba(255, 255, 255, 1.0)\",\"gridwidth\":2.0,\"zerolinecolor\":\"rgba(255, 255, 255, 1.0)\",\"backgroundcolor\":\"rgba(229, 236, 246, 1.0)\",\"showbackground\":true},\"zaxis\":{\"ticks\":\"\",\"linecolor\":\"rgba(255, 255, 255, 1.0)\",\"gridcolor\":\"rgba(255, 255, 255, 1.0)\",\"gridwidth\":2.0,\"zerolinecolor\":\"rgba(255, 255, 255, 1.0)\",\"backgroundcolor\":\"rgba(229, 236, 246, 1.0)\",\"showbackground\":true}},\"ternary\":{\"aaxis\":{\"ticks\":\"\",\"linecolor\":\"rgba(255, 255, 255, 1.0)\",\"gridcolor\":\"rgba(255, 255, 255, 1.0)\"},\"baxis\":{\"ticks\":\"\",\"linecolor\":\"rgba(255, 255, 255, 1.0)\",\"gridcolor\":\"rgba(255, 255, 255, 1.0)\"},\"caxis\":{\"ticks\":\"\",\"linecolor\":\"rgba(255, 255, 255, 1.0)\",\"gridcolor\":\"rgba(255, 255, 255, 1.0)\"},\"bgcolor\":\"rgba(229, 236, 246, 1.0)\"},\"xaxis\":{\"title\":{\"standoff\":15},\"ticks\":\"\",\"automargin\":\"height+width+left+right+top+bottom\",\"linecolor\":\"rgba(255, 255, 255, 1.0)\",\"gridcolor\":\"rgba(255, 255, 255, 1.0)\",\"zerolinecolor\":\"rgba(255, 255, 255, 1.0)\",\"zerolinewidth\":2.0},\"yaxis\":{\"title\":{\"standoff\":15},\"ticks\":\"\",\"automargin\":\"height+width+left+right+top+bottom\",\"linecolor\":\"rgba(255, 255, 255, 1.0)\",\"gridcolor\":\"rgba(255, 255, 255, 1.0)\",\"zerolinecolor\":\"rgba(255, 255, 255, 1.0)\",\"zerolinewidth\":2.0},\"annotationdefaults\":{\"arrowcolor\":\"#2a3f5f\",\"arrowhead\":0,\"arrowwidth\":1},\"shapedefaults\":{\"line\":{\"color\":\"rgba(42, 63, 95, 1.0)\"}},\"colorway\":[\"rgba(99, 110, 250, 1.0)\",\"rgba(239, 85, 59, 1.0)\",\"rgba(0, 204, 150, 1.0)\",\"rgba(171, 99, 250, 1.0)\",\"rgba(255, 161, 90, 1.0)\",\"rgba(25, 211, 243, 1.0)\",\"rgba(255, 102, 146, 1.0)\",\"rgba(182, 232, 128, 1.0)\",\"rgba(255, 151, 255, 1.0)\",\"rgba(254, 203, 82, 1.0)\"]},\"data\":{\"bar\":[{\"marker\":{\"line\":{\"color\":\"rgba(229, 236, 246, 1.0)\",\"width\":0.5},\"pattern\":{\"fillmode\":\"overlay\",\"size\":10,\"solidity\":0.2}},\"error_x\":{\"color\":\"rgba(42, 63, 95, 1.0)\"},\"error_y\":{\"color\":\"rgba(42, 63, 95, 1.0)\"}}],\"barpolar\":[{\"marker\":{\"line\":{\"color\":\"rgba(229, 236, 246, 1.0)\",\"width\":0.5},\"pattern\":{\"fillmode\":\"overlay\",\"size\":10,\"solidity\":0.2}}}],\"carpet\":[{\"aaxis\":{\"linecolor\":\"rgba(255, 255, 255, 1.0)\",\"gridcolor\":\"rgba(255, 255, 255, 1.0)\",\"endlinecolor\":\"rgba(42, 63, 95, 1.0)\",\"minorgridcolor\":\"rgba(255, 255, 255, 1.0)\",\"startlinecolor\":\"rgba(42, 63, 95, 1.0)\"},\"baxis\":{\"linecolor\":\"rgba(255, 255, 255, 1.0)\",\"gridcolor\":\"rgba(255, 255, 255, 1.0)\",\"endlinecolor\":\"rgba(42, 63, 95, 1.0)\",\"minorgridcolor\":\"rgba(255, 255, 255, 1.0)\",\"startlinecolor\":\"rgba(42, 63, 95, 1.0)\"}}],\"choropleth\":[{\"colorbar\":{\"outlinewidth\":0.0,\"ticks\":\"\"},\"colorscale\":[[0.0,\"#0d0887\"],[0.1111111111111111,\"#46039f\"],[0.2222222222222222,\"#7201a8\"],[0.3333333333333333,\"#9c179e\"],[0.4444444444444444,\"#bd3786\"],[0.5555555555555556,\"#d8576b\"],[0.6666666666666666,\"#ed7953\"],[0.7777777777777778,\"#fb9f3a\"],[0.8888888888888888,\"#fdca26\"],[1.0,\"#f0f921\"]]}],\"contour\":[{\"colorbar\":{\"outlinewidth\":0.0,\"ticks\":\"\"},\"colorscale\":[[0.0,\"#0d0887\"],[0.1111111111111111,\"#46039f\"],[0.2222222222222222,\"#7201a8\"],[0.3333333333333333,\"#9c179e\"],[0.4444444444444444,\"#bd3786\"],[0.5555555555555556,\"#d8576b\"],[0.6666666666666666,\"#ed7953\"],[0.7777777777777778,\"#fb9f3a\"],[0.8888888888888888,\"#fdca26\"],[1.0,\"#f0f921\"]]}],\"contourcarpet\":[{\"colorbar\":{\"outlinewidth\":0.0,\"ticks\":\"\"}}],\"heatmap\":[{\"colorbar\":{\"outlinewidth\":0.0,\"ticks\":\"\"},\"colorscale\":[[0.0,\"#0d0887\"],[0.1111111111111111,\"#46039f\"],[0.2222222222222222,\"#7201a8\"],[0.3333333333333333,\"#9c179e\"],[0.4444444444444444,\"#bd3786\"],[0.5555555555555556,\"#d8576b\"],[0.6666666666666666,\"#ed7953\"],[0.7777777777777778,\"#fb9f3a\"],[0.8888888888888888,\"#fdca26\"],[1.0,\"#f0f921\"]]}],\"heatmapgl\":[{\"colorbar\":{\"outlinewidth\":0.0,\"ticks\":\"\"},\"colorscale\":[[0.0,\"#0d0887\"],[0.1111111111111111,\"#46039f\"],[0.2222222222222222,\"#7201a8\"],[0.3333333333333333,\"#9c179e\"],[0.4444444444444444,\"#bd3786\"],[0.5555555555555556,\"#d8576b\"],[0.6666666666666666,\"#ed7953\"],[0.7777777777777778,\"#fb9f3a\"],[0.8888888888888888,\"#fdca26\"],[1.0,\"#f0f921\"]]}],\"histogram\":[{\"marker\":{\"pattern\":{\"fillmode\":\"overlay\",\"size\":10,\"solidity\":0.2}}}],\"histogram2d\":[{\"colorbar\":{\"outlinewidth\":0.0,\"ticks\":\"\"},\"colorscale\":[[0.0,\"#0d0887\"],[0.1111111111111111,\"#46039f\"],[0.2222222222222222,\"#7201a8\"],[0.3333333333333333,\"#9c179e\"],[0.4444444444444444,\"#bd3786\"],[0.5555555555555556,\"#d8576b\"],[0.6666666666666666,\"#ed7953\"],[0.7777777777777778,\"#fb9f3a\"],[0.8888888888888888,\"#fdca26\"],[1.0,\"#f0f921\"]]}],\"histogram2dcontour\":[{\"colorbar\":{\"outlinewidth\":0.0,\"ticks\":\"\"},\"colorscale\":[[0.0,\"#0d0887\"],[0.1111111111111111,\"#46039f\"],[0.2222222222222222,\"#7201a8\"],[0.3333333333333333,\"#9c179e\"],[0.4444444444444444,\"#bd3786\"],[0.5555555555555556,\"#d8576b\"],[0.6666666666666666,\"#ed7953\"],[0.7777777777777778,\"#fb9f3a\"],[0.8888888888888888,\"#fdca26\"],[1.0,\"#f0f921\"]]}],\"mesh3d\":[{\"colorbar\":{\"outlinewidth\":0.0,\"ticks\":\"\"}}],\"parcoords\":[{\"line\":{\"colorbar\":{\"outlinewidth\":0.0,\"ticks\":\"\"}}}],\"pie\":[{\"automargin\":true}],\"scatter\":[{\"marker\":{\"colorbar\":{\"outlinewidth\":0.0,\"ticks\":\"\"}}}],\"scatter3d\":[{\"marker\":{\"colorbar\":{\"outlinewidth\":0.0,\"ticks\":\"\"}},\"line\":{\"colorbar\":{\"outlinewidth\":0.0,\"ticks\":\"\"}}}],\"scattercarpet\":[{\"marker\":{\"colorbar\":{\"outlinewidth\":0.0,\"ticks\":\"\"}}}],\"scattergeo\":[{\"marker\":{\"colorbar\":{\"outlinewidth\":0.0,\"ticks\":\"\"}}}],\"scattergl\":[{\"marker\":{\"colorbar\":{\"outlinewidth\":0.0,\"ticks\":\"\"}}}],\"scattermapbox\":[{\"marker\":{\"colorbar\":{\"outlinewidth\":0.0,\"ticks\":\"\"}}}],\"scatterpolar\":[{\"marker\":{\"colorbar\":{\"outlinewidth\":0.0,\"ticks\":\"\"}}}],\"scatterpolargl\":[{\"marker\":{\"colorbar\":{\"outlinewidth\":0.0,\"ticks\":\"\"}}}],\"scatterternary\":[{\"marker\":{\"colorbar\":{\"outlinewidth\":0.0,\"ticks\":\"\"}}}],\"surface\":[{\"colorbar\":{\"outlinewidth\":0.0,\"ticks\":\"\"},\"colorscale\":[[0.0,\"#0d0887\"],[0.1111111111111111,\"#46039f\"],[0.2222222222222222,\"#7201a8\"],[0.3333333333333333,\"#9c179e\"],[0.4444444444444444,\"#bd3786\"],[0.5555555555555556,\"#d8576b\"],[0.6666666666666666,\"#ed7953\"],[0.7777777777777778,\"#fb9f3a\"],[0.8888888888888888,\"#fdca26\"],[1.0,\"#f0f921\"]]}],\"table\":[{\"cells\":{\"fill\":{\"color\":\"rgba(235, 240, 248, 1.0)\"},\"line\":{\"color\":\"rgba(255, 255, 255, 1.0)\"}},\"header\":{\"fill\":{\"color\":\"rgba(200, 212, 227, 1.0)\"},\"line\":{\"color\":\"rgba(255, 255, 255, 1.0)\"}}}]}},\"xaxis\":{\"title\":{\"text\":\"Level\"}},\"yaxis\":{\"title\":{\"text\":\"Average Damage of Average Roll Luck\"}},\"title\":{\"text\":\"Druid vs. Fighter - Creatures PL+2\"}};\n",
       "        var config = {\"responsive\":true};\n",
       "        Plotly.newPlot('d51463b7-9c3d-4ed3-a2ec-04e8b91d42a5', data, layout, config);\n",
       "    });\n",
       "};\n",
       "if ((typeof(requirejs) !==  typeof(Function)) || (typeof(requirejs.config) !== typeof(Function))) {\n",
       "    var script = document.createElement(\"script\");\n",
       "    script.setAttribute(\"charset\", \"utf-8\");\n",
       "    script.setAttribute(\"src\", \"https://cdnjs.cloudflare.com/ajax/libs/require.js/2.3.6/require.min.js\");\n",
       "    script.onload = function(){\n",
       "        renderPlotly_d51463b79c3d4ed3a2ec04e8b91d42a5();\n",
       "    };\n",
       "    document.getElementsByTagName(\"head\")[0].appendChild(script);\n",
       "}\n",
       "else {\n",
       "    renderPlotly_d51463b79c3d4ed3a2ec04e8b91d42a5();\n",
       "}\n",
       "</script></div>"
      ]
     },
     "metadata": {},
     "output_type": "display_data"
    }
   ],
   "source": [
    "let creatureLevelBump = 2\n",
    "\n",
    "let titleFn level = \n",
    "  sprintf \"Middle Save - Level %i - Caster Focus Spells vs. Fighter Weapons Against Level %i Creatures\" level (level+creatureLevelBump)\n",
    "\n",
    "[|\n",
    "  { \n",
    "    AveragesByRollsByLevel = transformedResultsByRollByLevel tempestSurge CreatureSave middleSave (casterDc true) bestiaryByLevel creatureLevelBump\n",
    "      |> Seq.map resultRollsToAverages\n",
    "      |> Seq.map normalizeSavingThrowsForLevel\n",
    "      |> Seq.toArray;\n",
    "    Title = \"Tempest Surge\"\n",
    "  };\n",
    "  // { \n",
    "  //   AveragesByRollsByLevel = transformedResultsByRollByLevel fireRay PlayerAttack creatureAc (casterAttack true false) bestiaryByLevel creatureLevelBump\n",
    "  //     |> Seq.map resultRollsToAverages\n",
    "  //     |> Seq.toArray;\n",
    "  //   Title = \"Fire Ray\";\n",
    "  // };\n",
    "  // {\n",
    "  //   AveragesByRollsByLevel = transformedResultsByRollByLevel fighterArbalest PlayerAttack creatureAc (highFighterAttack true) bestiaryByLevel creatureLevelBump\n",
    "  //     |> Seq.map resultRollsToAverages\n",
    "  //     |> Seq.toArray;\n",
    "  //   Title = \"Arbalest (1 shot)\"\n",
    "  // };\n",
    "  {\n",
    "    AveragesByRollsByLevel = mapMerge (highFighterAttack true) creatureLevelBump 5 fighterLongbow\n",
    "    Title = \"Longbow (2 Strikes)\"\n",
    "  };\n",
    "  {\n",
    "    AveragesByRollsByLevel = mapMerge ((+) -2 << highFighterAttack true) creatureLevelBump 0 fighterLongbow\n",
    "    Title = \"Longbow (Double Shot)\"\n",
    "  }\n",
    "  {\n",
    "    AveragesByRollsByLevel = [\n",
    "      transformedResultsByRollByLevel fighterLongbow PlayerAttack creatureAc ((+) -4 << highFighterAttack true) bestiaryByLevel creatureLevelBump |> Seq.map resultRollsToAverages;\n",
    "      transformedResultsByRollByLevel fighterLongbow PlayerAttack creatureAc ((+) -4 << highFighterAttack true) bestiaryByLevel creatureLevelBump |> Seq.map resultRollsToAverages;\n",
    "      transformedResultsByRollByLevel fighterLongbow PlayerAttack creatureAc ((+) -4 << highFighterAttack true) bestiaryByLevel creatureLevelBump |> Seq.map resultRollsToAverages;\n",
    "    ]\n",
    "    |> mergeNRollAverages\n",
    "    Title = \"Longbow (Triple Shot)\"\n",
    "  }\n",
    "|]\n",
    "|> flatten\n",
    "// |> generateCharts titleFn \n",
    "|> generateLevelScaleChart (sprintf \"Druid vs. Fighter - Creatures PL+%i\" creatureLevelBump)\n"
   ]
  },
  {
   "cell_type": "code",
   "execution_count": 3,
   "metadata": {
    "dotnet_interactive": {
     "language": "fsharp"
    },
    "polyglot_notebook": {
     "kernelName": "fsharp"
    }
   },
   "outputs": [],
   "source": [
    "let monsterLevelDiff = 2\n",
    "\n",
    "let titleFn level = \n",
    "  sprintf \"Middle Save - Level %i - Caster Single-Target vs. Fighter Weapons Against Level %i Creatures\" level (level+monsterLevelDiff)\n",
    "\n",
    "let longswordAverage =\n",
    "  transformedResultsByRollByLevel fighterLongsword PlayerAttack creatureAc (highFighterAttack true) bestiaryByLevel monsterLevelDiff\n",
    "  |> Seq.map resultRollsToAverages\n",
    "\n",
    "let shortswordAverage =\n",
    "  transformedResultsByRollByLevel fighterShortsword PlayerAttack creatureAc (highFighterAttack true) bestiaryByLevel monsterLevelDiff\n",
    "  |> Seq.map resultRollsToAverages\n",
    "\n",
    "[|\n",
    "  { \n",
    "    AveragesByRollsByLevel = transformedResultsByRollByLevel thunderstrike CreatureSave middleSave (casterDc true) bestiaryByLevel monsterLevelDiff\n",
    "      |> Seq.map resultRollsToAverages\n",
    "      |> Seq.map normalizeSavingThrowsForLevel\n",
    "      |> Seq.toArray;\n",
    "    Title = \"Thunderstrike (Middle)\"\n",
    "  };\n",
    "  {\n",
    "    AveragesByRollsByLevel = mergeRollAveragesByLevel longswordAverage shortswordAverage\n",
    "      |> Seq.toArray;\n",
    "    Title = \"Double Slice (Swords)\"\n",
    "  };\n",
    "  {\n",
    "    AveragesByRollsByLevel = transformedResultsByRollByLevel (forceBarrage 3) PlayerAttack creatureAc (highFighterAttack true) bestiaryByLevel monsterLevelDiff\n",
    "    |> Seq.map resultRollsToAverages\n",
    "    |> Seq.toArray;\n",
    "    Title = \"3-action force barrage\"\n",
    "  };\n",
    "  {\n",
    "    AveragesByRollsByLevel = transformedResultsByRollByLevel (forceBarrage 2) PlayerAttack creatureAc (highFighterAttack true) bestiaryByLevel monsterLevelDiff\n",
    "    |> Seq.map resultRollsToAverages\n",
    "    |> Seq.toArray;\n",
    "    Title = \"2-action force barrage\"\n",
    "  }\n",
    "|]\n",
    "|> flatten\n",
    "// |> generateCharts titleFn\n",
    "|> generateLevelScaleChart (sprintf \"Wizard vs. Fighter - Creatures PL+%i\" monsterLevelDiff)"
   ]
  },
  {
   "cell_type": "code",
   "execution_count": null,
   "metadata": {
    "dotnet_interactive": {
     "language": "fsharp"
    },
    "polyglot_notebook": {
     "kernelName": "fsharp"
    }
   },
   "outputs": [],
   "source": [
    "open PathfinderAnalysis.DamageDistribution\n",
    "\n",
    "let dicePool = [D12, 4; D6, 3; D4, 2]\n",
    "let nBuckets = 20\n",
    "\n",
    "let values = \n",
    "  rollDistributions 0 dicePool\n",
    "  |> Seq.toList\n",
    "  |> chunkRolls nBuckets\n",
    "  |> chunksToAverages\n",
    "  |> Seq.toList\n",
    "\n",
    "let title = sprintf \"Roll Sum of %A mapped onto a d%i\" dicePool nBuckets\n",
    "\n",
    "Chart.Line(\n",
    "  x = List.map first values,\n",
    "  y = List.map second values,\n",
    "  ShowMarkers = true,\n",
    "  MultiText = (List.map second values |> List.map (sprintf \"%.0f\")),\n",
    "  TextPosition = StyleParam.TextPosition.TopCenter\n",
    ")\n",
    "|> Chart.withXAxisStyle(TitleText = \"D20 Result\")\n",
    "|> Chart.withYAxisStyle(TitleText = \"Estimated Roll Sum\")\n",
    "|> Chart.withTitle(title)\n",
    "\n"
   ]
  },
  {
   "cell_type": "code",
   "execution_count": null,
   "metadata": {
    "dotnet_interactive": {
     "language": "fsharp"
    },
    "polyglot_notebook": {
     "kernelName": "fsharp"
    }
   },
   "outputs": [],
   "source": [
    "open PathfinderAnalysis.DamageDistribution\n",
    "\n",
    "let creatureLevelBump = 2\n",
    "\n",
    "let titleFn level =\n",
    "  sprintf \"Level %i - Druid vs. Fighter Against Level %i Creatures (AC: %.1f DC: %.1f)\" level (level + creatureLevelBump) (average creatureAc level) (average middleSave level + 10.0)\n",
    "\n",
    "let fighterLongbowBucketsForLevel pcLevel =\n",
    "  [|\n",
    "    { HitRollCount = 1; HitModifier = highFighterAttack true pcLevel; Contest = PlayerAttack; CreatureDefenseFunction = creatureAc; DamageFunction = diceFighterLongbow pcLevel };\n",
    "    { HitRollCount = 1; HitModifier = highFighterAttack true pcLevel - 5; Contest = PlayerAttack; CreatureDefenseFunction = creatureAc; DamageFunction = diceFighterLongbow pcLevel };\n",
    "  |]\n",
    "  |> bigThingStandardChunk bestiaryByLevel[pcLevel + creatureLevelBump]\n",
    "\n",
    "// let fighterShortbowBucketsForLevel pcLevel =\n",
    "//   [|\n",
    "//     { HitRollCount = 1; HitModifier = highFighterAttack true pcLevel; Contest = PlayerAttack; CreatureDefenseFunction = creatureAc; DamageFunction = diceFighterShortbow pcLevel };\n",
    "//     { HitRollCount = 1; HitModifier = highFighterAttack true pcLevel - 5; Contest = PlayerAttack; CreatureDefenseFunction = creatureAc; DamageFunction = diceFighterShortbow pcLevel };\n",
    "//   |]\n",
    "//   |> bigThingStandardChunk bestiaryByLevel[pcLevel + creatureLevelBump]\n",
    "\n",
    "let druidReflexBuckets pcLevel =\n",
    "  [|\n",
    "    { HitRollCount = 1; HitModifier = casterDc true pcLevel; Contest = CreatureSave; CreatureDefenseFunction = (fun c -> c.reflex + c.hasMagicBonus); DamageFunction = diceDamageTempestSurge pcLevel };\n",
    "  |]\n",
    "  |> bigThingStandardChunk bestiaryByLevel[pcLevel + creatureLevelBump]\n",
    "\n",
    "let druidMiddleBuckets pcLevel =\n",
    "  [|\n",
    "    { HitRollCount = 1; HitModifier = casterDc true pcLevel; Contest = CreatureSave; CreatureDefenseFunction = middleSave; DamageFunction = diceDamageTempestSurge pcLevel };\n",
    "  |]\n",
    "  |> bigThingStandardChunk bestiaryByLevel[pcLevel + creatureLevelBump]\n",
    "\n",
    "[1..4]\n",
    "|> List.map (fun level -> [\n",
    "  \"Tempest Surge (Reflex)\", level, druidReflexBuckets level;\n",
    "  \"Longbow (2 Strikes)\", level, fighterLongbowBucketsForLevel level;\n",
    "  \"Tempest Surge (Middle)\", level, druidMiddleBuckets level;\n",
    "  // \"Shortbow (2 Strikes)\", level, fighterShortbowBucketsForLevel level\n",
    "])\n",
    "|> Seq.collect (fun titledBucketsByLevel -> Seq.map (fun (title, level, bucket) -> chunksToFlatChartData title level bucket) titledBucketsByLevel)\n",
    "|> generateCharts titleFn\n",
    "// |> generateLevelScaleChart (sprintf \"Reflex Save - Druid vs. Fighter Creatures PL+%i\" creatureLevelBump)\n"
   ]
  }
 ],
 "metadata": {
  "kernelspec": {
   "display_name": ".NET (C#)",
   "language": "C#",
   "name": ".net-csharp"
  },
  "language_info": {
   "name": "polyglot-notebook"
  },
  "polyglot_notebook": {
   "kernelInfo": {
    "defaultKernelName": "csharp",
    "items": [
     {
      "aliases": [],
      "name": "csharp"
     },
     {
      "aliases": [],
      "languageName": "fsharp",
      "name": "fsharp"
     }
    ]
   }
  }
 },
 "nbformat": 4,
 "nbformat_minor": 2
}
