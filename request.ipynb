{
 "cells": [
  {
   "cell_type": "code",
   "execution_count": null,
   "metadata": {
    "dotnet_interactive": {
     "language": "fsharp"
    },
    "polyglot_notebook": {
     "kernelName": "fsharp"
    },
    "vscode": {
     "languageId": "polyglot-notebook"
    }
   },
   "outputs": [],
   "source": [
    "#r \"nuget: Plotly.NET.Interactive\"\n",
    "#r \"nuget: Plotly.NET.ImageExport\"\n",
    "\n",
    "#load \"Helpers.fs\"\n",
    "#load \"Request.fs\"\n",
    "\n",
    "open Plotly.NET\n",
    "open Plotly.NET.ImageExport  \n",
    "open PathfinderAnalysis.Helpers\n",
    "open Request.Guimard\n",
    "\n",
    "type DataPrep = {\n",
    "  ValuesChanceAndKeysDiceRolled: (float * int) list;\n",
    "  NameResult: string;\n",
    "}\n",
    "\n",
    "type Data = {\n",
    "  Values: float list;\n",
    "  Keys: int list;\n",
    "  Name: string;\n",
    "}\n",
    "\n",
    "let titleFn = sprintf \"Probability of each result for n%s\"\n",
    "\n",
    "let generateChartForDieSize maxDice dieSize =\n",
    "  let work = \n",
    "    [1..maxDice]\n",
    "    |> List.map (fun nDice -> nDice, requestWork dieSize nDice)\n",
    "\n",
    "  let data = \n",
    "    [Success; SuccessWithComplication; PartialSuccess; PartialSuccessWithComplication; Failure]\n",
    "    |> List.map (fun result -> \n",
    "      List.fold (fun state diceAndResultChances ->\n",
    "        List.where (fun resultChance -> resultChance.Result = result) (second diceAndResultChances)\n",
    "        |> List.tryExactlyOne\n",
    "        |> fun resultChance -> \n",
    "          if Option.isNone resultChance then state \n",
    "          else List.append state [((Option.get resultChance).Chance, first diceAndResultChances)]\n",
    "        ) [] work\n",
    "      |> fun pairs -> { NameResult = string result; ValuesChanceAndKeysDiceRolled = pairs })\n",
    "      |> List.map (fun preps -> { Name = preps.NameResult; Values = List.map first preps.ValuesChanceAndKeysDiceRolled; Keys = List.map second preps.ValuesChanceAndKeysDiceRolled })\n",
    "\n",
    "  data\n",
    "  |> List.map (fun data -> Chart.StackedColumn(\n",
    "      values = data.Values,\n",
    "      Keys = data.Keys,\n",
    "      Name = data.Name,\n",
    "      MultiText = List.map (fun v -> sprintf \"%.0f%%\" (100.0*v)) data.Values\n",
    "    ))\n",
    "  |> Chart.combine\n",
    "  |> Chart.withYAxisStyle(\"chance of result\")\n",
    "  |> Chart.withXAxisStyle(\"n dice\")\n",
    "  |> Chart.withTitle(titleFn (rollNotation dieSize))\n",
    "\n",
    "[D4; D6; D8; D10; D12; D20]\n",
    "|> List.map (generateChartForDieSize 6)\n",
    "|> Seq.iteri (fun i chart -> Chart.savePNG (path = (sprintf \"request-%02i\" i)) chart)\n"
   ]
  },
  {
   "cell_type": "code",
   "execution_count": null,
   "metadata": {
    "vscode": {
     "languageId": "polyglot-notebook"
    }
   },
   "outputs": [],
   "source": []
  }
 ],
 "metadata": {
  "kernelspec": {
   "display_name": ".NET (C#)",
   "language": "C#",
   "name": ".net-csharp"
  },
  "language_info": {
   "name": "csharp"
  },
  "polyglot_notebook": {
   "kernelInfo": {
    "defaultKernelName": "csharp",
    "items": [
     {
      "aliases": [],
      "name": "csharp"
     }
    ]
   }
  }
 },
 "nbformat": 4,
 "nbformat_minor": 2
}
